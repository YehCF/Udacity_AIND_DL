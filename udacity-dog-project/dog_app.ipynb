{
 "cells": [
  {
   "cell_type": "markdown",
   "metadata": {},
   "source": [
    "# Artificial Intelligence Nanodegree\n",
    "\n",
    "## Convolutional Neural Networks\n",
    "\n",
    "## Project: Write an Algorithm for a Dog Identification App \n",
    "\n",
    "---\n",
    "\n",
    "In this notebook, some template code has already been provided for you, and you will need to implement additional functionality to successfully complete this project. You will not need to modify the included code beyond what is requested. Sections that begin with **'(IMPLEMENTATION)'** in the header indicate that the following block of code will require additional functionality which you must provide. Instructions will be provided for each section, and the specifics of the implementation are marked in the code block with a 'TODO' statement. Please be sure to read the instructions carefully! \n",
    "\n",
    "> **Note**: Once you have completed all of the code implementations, you need to finalize your work by exporting the iPython Notebook as an HTML document. Before exporting the notebook to html, all of the code cells need to have been run so that reviewers can see the final implementation and output. You can then export the notebook by using the menu above and navigating to  \\n\",\n",
    "    \"**File -> Download as -> HTML (.html)**. Include the finished document along with this notebook as your submission.\n",
    "\n",
    "In addition to implementing code, there will be questions that you must answer which relate to the project and your implementation. Each section where you will answer a question is preceded by a **'Question X'** header. Carefully read each question and provide thorough answers in the following text boxes that begin with **'Answer:'**. Your project submission will be evaluated based on your answers to each of the questions and the implementation you provide.\n",
    "\n",
    ">**Note:** Code and Markdown cells can be executed using the **Shift + Enter** keyboard shortcut.  Markdown cells can be edited by double-clicking the cell to enter edit mode.\n",
    "\n",
    "The rubric contains _optional_ \"Stand Out Suggestions\" for enhancing the project beyond the minimum requirements. If you decide to pursue the \"Stand Out Suggestions\", you should include the code in this IPython notebook.\n",
    "\n",
    "\n",
    "\n",
    "---\n",
    "### Why We're Here \n",
    "\n",
    "In this notebook, you will make the first steps towards developing an algorithm that could be used as part of a mobile or web app.  At the end of this project, your code will accept any user-supplied image as input.  If a dog is detected in the image, it will provide an estimate of the dog's breed.  If a human is detected, it will provide an estimate of the dog breed that is most resembling.  The image below displays potential sample output of your finished project (... but we expect that each student's algorithm will behave differently!). \n",
    "\n",
    "![Sample Dog Output](images/sample_dog_output.png)\n",
    "\n",
    "In this real-world setting, you will need to piece together a series of models to perform different tasks; for instance, the algorithm that detects humans in an image will be different from the CNN that infers dog breed.  There are many points of possible failure, and no perfect algorithm exists.  Your imperfect solution will nonetheless create a fun user experience!\n",
    "\n",
    "### The Road Ahead\n",
    "\n",
    "We break the notebook into separate steps.  Feel free to use the links below to navigate the notebook.\n",
    "\n",
    "* [Step 0](#step0): Import Datasets\n",
    "* [Step 1](#step1): Detect Humans\n",
    "* [Step 2](#step2): Detect Dogs\n",
    "* [Step 3](#step3): Create a CNN to Classify Dog Breeds (from Scratch)\n",
    "* [Step 4](#step4): Use a CNN to Classify Dog Breeds (using Transfer Learning)\n",
    "* [Step 5](#step5): Create a CNN to Classify Dog Breeds (using Transfer Learning)\n",
    "* [Step 6](#step6): Write your Algorithm\n",
    "* [Step 7](#step7): Test Your Algorithm\n",
    "\n",
    "---\n",
    "<a id='step0'></a>\n",
    "## Step 0: Import Datasets\n",
    "\n",
    "### Import Dog Dataset\n",
    "\n",
    "In the code cell below, we import a dataset of dog images.  We populate a few variables through the use of the `load_files` function from the scikit-learn library:\n",
    "- `train_files`, `valid_files`, `test_files` - numpy arrays containing file paths to images\n",
    "- `train_targets`, `valid_targets`, `test_targets` - numpy arrays containing onehot-encoded classification labels \n",
    "- `dog_names` - list of string-valued dog breed names for translating labels"
   ]
  },
  {
   "cell_type": "code",
   "execution_count": 5,
   "metadata": {},
   "outputs": [
    {
     "name": "stdout",
     "output_type": "stream",
     "text": [
      "There are 133 total dog categories.\n",
      "There are 8351 total dog images.\n",
      "\n",
      "There are 6680 training dog images.\n",
      "There are 835 validation dog images.\n",
      "There are 836 test dog images.\n"
     ]
    }
   ],
   "source": [
    "from sklearn.datasets import load_files\n",
    "from keras.utils import np_utils\n",
    "import numpy as np\n",
    "from glob import glob\n",
    "\n",
    "# define function to load train, test, and validation datasets\n",
    "def load_datasets(path):\n",
    "    data = load_files(path)\n",
    "    dog_files = np.array(data['filenames'])\n",
    "    dog_targets = np_utils.to_categorical(np.array(data['target']), 133)\n",
    "    return dog_files, dog_targets\n",
    "\n",
    "# load train, test, and validation datasets\n",
    "train_files, train_targets = load_datasets('dogImages/train')\n",
    "valid_files, valid_targets = load_datasets('dogImages/valid')\n",
    "test_files, test_targets = load_datasets('dogImages/test')\n",
    "\n",
    "# load list of dog names\n",
    "dog_names = [item[20:-1] for item in sorted(glob(\"dogImages/train/*/\"))]\n",
    "\n",
    "# print statistics about the dataset\n",
    "print(\"There are %d total dog categories.\" % len(dog_names))\n",
    "print(\"There are %s total dog images.\\n\" % len(np.concatenate([train_files, valid_files, test_files], axis=0)))\n",
    "print('There are %d training dog images.' % len(train_files))\n",
    "print('There are %d validation dog images.' % len(valid_files))\n",
    "print('There are %d test dog images.'% len(test_files))"
   ]
  },
  {
   "cell_type": "markdown",
   "metadata": {},
   "source": [
    "### Import Human Dataset\n",
    "\n",
    "In the code cell below, we import a dataset of human images, where the file paths are stored in the numpy array `human_files`."
   ]
  },
  {
   "cell_type": "code",
   "execution_count": 6,
   "metadata": {},
   "outputs": [
    {
     "name": "stdout",
     "output_type": "stream",
     "text": [
      "There are 13233 total human images.\n"
     ]
    }
   ],
   "source": [
    "import random\n",
    "random.seed(8675309)\n",
    "\n",
    "# load filenames in shuffled human dataset\n",
    "human_files = np.array(glob(\"lfw/*/*\"))\n",
    "random.shuffle(human_files)\n",
    "\n",
    "# print statistics about the dataset\n",
    "print('There are %d total human images.' % len(human_files))"
   ]
  },
  {
   "cell_type": "markdown",
   "metadata": {},
   "source": [
    "---\n",
    "<a id='step1'></a>\n",
    "## Step 1: Detect Humans\n",
    "\n",
    "We use OpenCV's implementation of [Haar feature-based cascade classifiers](http://docs.opencv.org/trunk/d7/d8b/tutorial_py_face_detection.html) to detect human faces in images.  OpenCV provides many pre-trained face detectors, stored as XML files on [github](https://github.com/opencv/opencv/tree/master/data/haarcascades).  We have downloaded one of these detectors and stored it in the `haarcascades` directory.\n",
    "\n",
    "In the next code cell, we demonstrate how to use this detector to find human faces in a sample image."
   ]
  },
  {
   "cell_type": "code",
   "execution_count": 7,
   "metadata": {},
   "outputs": [
    {
     "name": "stdout",
     "output_type": "stream",
     "text": [
      "Number of faces detected: 3\n"
     ]
    },
    {
     "data": {
      "image/png": "[encoded data removed]",
      "text/plain": [
       "<matplotlib.figure.Figure at 0x7f2dfc274be0>"
      ]
     },
     "metadata": {},
     "output_type": "display_data"
    }
   ],
   "source": [
    "import cv2\n",
    "import matplotlib.pyplot as plt\n",
    "%matplotlib inline\n",
    "\n",
    "# extract pre-trained face detector\n",
    "face_cascade = cv2.CascadeClassifier('haarcascades/haarcascade_frontalface_alt.xml')\n",
    "\n",
    "# load color (BGR) image\n",
    "img = cv2.imread(human_files[3])\n",
    "# convert BGR image to grayscale\n",
    "gray = cv2.cvtColor(img, cv2.COLOR_BGR2GRAY)\n",
    "\n",
    "# find faces in image\n",
    "faces = face_cascade.detectMultiScale(gray)\n",
    "\n",
    "# print number of faces detected in the iamge\n",
    "print('Number of faces detected:', len(faces))\n",
    "\n",
    "# get bounding box for each detected face\n",
    "for (x, y, w, h) in faces:\n",
    "    # add bounding box to color image\n",
    "    cv2.rectangle(img, (x, y), (x+w, y+h), (255, 0, 0), 2)\n",
    "\n",
    "# convert BGR images to RGB for plotting\n",
    "cv_rgb = cv2.cvtColor(img, cv2.COLOR_BGR2RGB)\n",
    "\n",
    "# display the image, along with bounding box\n",
    "plt.imshow(cv_rgb)\n",
    "plt.show()"
   ]
  },
  {
   "cell_type": "markdown",
   "metadata": {},
   "source": [
    "Before using any of the face detectors, it is standard procedure to convert the images to grayscale.  The `detectMultiScale` function executes the classifier stored in `face_cascade` and takes the grayscale image as a parameter.  \n",
    "\n",
    "In the above code, `faces` is a numpy array of detected faces, where each row corresponds to a detected face.  Each detected face is a 1D array with four entries that specifies the bounding box of the detected face.  The first two entries in the array (extracted in the above code as `x` and `y`) specify the horizontal and vertical positions of the top left corner of the bounding box.  The last two entries in the array (extracted here as `w` and `h`) specify the width and height of the box.\n",
    "\n",
    "### Write a Human Face Detector\n",
    "\n",
    "We can use this procedure to write a function that returns `True` if a human face is detected in an image and `False` otherwise.  This function, aptly named `face_detector`, takes a string-valued file path to an image as input and appears in the code block below."
   ]
  },
  {
   "cell_type": "code",
   "execution_count": 8,
   "metadata": {
    "collapsed": true
   },
   "outputs": [],
   "source": [
    "# returns \"True\" if face is detected in image stored at img_path\n",
    "def face_detector(img_path):\n",
    "    img = cv2.imread(img_path)\n",
    "    gray = cv2.cvtColor(img, cv2.COLOR_BGR2GRAY)\n",
    "    faces = face_cascade.detectMultiScale(gray)\n",
    "    return len(faces) > 0"
   ]
  },
  {
   "cell_type": "markdown",
   "metadata": {},
   "source": [
    "### (IMPLEMENTATION) Assess the Human Face Detector\n",
    "\n",
    "__Question 1:__ Use the code cell below to test the performance of the `face_detector` function.  \n",
    "- What percentage of the first 100 images in `human_files` have a detected human face?  \n",
    "- What percentage of the first 100 images in `dog_files` have a detected human face? \n",
    "\n",
    "Ideally, we would like 100% of human images with a detected face and 0% of dog images with a detected face.  You will see that our algorithm falls short of this goal, but still gives acceptable performance.  We extract the file paths for the first 100 images from each of the datasets and store them in the numpy arrays `human_files_short` and `dog_files_short`.\n",
    "\n",
    "__Answer:__ "
   ]
  },
  {
   "cell_type": "code",
   "execution_count": 9,
   "metadata": {},
   "outputs": [
    {
     "name": "stdout",
     "output_type": "stream",
     "text": [
      "Human images test accuracy: 0.99\n",
      "Dog images test accuracy: 0.11\n"
     ]
    }
   ],
   "source": [
    "human_files_short = human_files[:100]\n",
    "dog_files_short = train_files[:100]\n",
    "# Do NOT modify the code above this line.\n",
    "\n",
    "## TODO: Test the performance of the face_detector algorithm \n",
    "## on the images in human_files_short and dog_files_short.\n",
    "from tqdm import tqdm\n",
    "human_test_acc = (np.array([face_detector(human_img_path) for human_img_path in human_files_short]).astype(int)).mean()\n",
    "print(\"Human images test accuracy: %.2f\" % human_test_acc)\n",
    "dog_test_acc = (np.array([face_detector(dog_img_path) for dog_img_path in dog_files_short]).astype(int)).mean()\n",
    "print(\"Dog images test accuracy: %.2f\" % dog_test_acc)"
   ]
  },
  {
   "cell_type": "markdown",
   "metadata": {},
   "source": [
    "__Question 2:__ This algorithmic choice necessitates that we communicate to the user that we accept human images only when they provide a clear view of a face (otherwise, we risk having unneccessarily frustrated users!). In your opinion, is this a reasonable expectation to pose on the user? If not, can you think of a way to detect humans in images that does not necessitate an image with a clearly presented face?\n",
    "\n",
    "__Answer:__\n",
    "\n",
    "We suggest the face detector from OpenCV as a potential way to detect human images in your algorithm, but you are free to explore other approaches, especially approaches that make use of deep learning :).  Please use the code cell below to design and test your own face detection algorithm.  If you decide to pursue this _optional_ task, report performance on each of the datasets."
   ]
  },
  {
   "cell_type": "code",
   "execution_count": 10,
   "metadata": {
    "collapsed": true
   },
   "outputs": [],
   "source": [
    "## (Optional) TODO: Report the performance of another  \n",
    "## face detection algorithm on the LFW dataset\n",
    "### Feel free to use as many code cells as needed."
   ]
  },
  {
   "cell_type": "markdown",
   "metadata": {},
   "source": [
    "---\n",
    "<a id='step2'></a>\n",
    "## Step 2: Detect Dogs\n",
    "\n",
    "In this section, we use a pre-trained [ResNet-50](http://ethereon.github.io/netscope/#/gist/db945b393d40bfa26006) model to detect dogs in images.  Our first line of code downloads the ResNet-50 model, along with weights that have been trained on [ImageNet](http://www.image-net.org/), a very large, very popular dataset used for image classification and other vision tasks.  ImageNet contains over 10 million URLs, each linking to an image containing an object from one of [1000 categories](https://gist.github.com/yrevar/942d3a0ac09ec9e5eb3a).  Given an image, this pre-trained ResNet-50 model returns a prediction (derived from the available categories in ImageNet) for the object that is contained in the image."
   ]
  },
  {
   "cell_type": "code",
   "execution_count": 11,
   "metadata": {
    "collapsed": true
   },
   "outputs": [],
   "source": [
    "from keras.applications.resnet50 import ResNet50\n",
    "\n",
    "# define ResNet50 model\n",
    "ResNet50_model = ResNet50(weights='imagenet')"
   ]
  },
  {
   "cell_type": "markdown",
   "metadata": {},
   "source": [
    "### Pre-process the Data\n",
    "\n",
    "When using TensorFlow as backend, Keras CNNs require a 4D array (which we'll also refer to as a 4D tensor) as input, with shape\n",
    "\n",
    "$$\n",
    "(\\text{nb_samples}, \\text{rows}, \\text{columns}, \\text{channels}),\n",
    "$$\n",
    "\n",
    "where `nb_samples` corresponds to the total number of images (or samples), and `rows`, `columns`, and `channels` correspond to the number of rows, columns, and channels for each image, respectively.  \n",
    "\n",
    "The `path_to_tensor` function below takes a string-valued file path to a color image as input and returns a 4D tensor suitable for supplying to a Keras CNN.  The function first loads the image and resizes it to a square image that is $224 \\times 224$ pixels.  Next, the image is converted to an array, which is then resized to a 4D tensor.  In this case, since we are working with color images, each image has three channels.  Likewise, since we are processing a single image (or sample), the returned tensor will always have shape\n",
    "\n",
    "$$\n",
    "(1, 224, 224, 3).\n",
    "$$\n",
    "\n",
    "The `paths_to_tensor` function takes a numpy array of string-valued image paths as input and returns a 4D tensor with shape \n",
    "\n",
    "$$\n",
    "(\\text{nb_samples}, 224, 224, 3).\n",
    "$$\n",
    "\n",
    "Here, `nb_samples` is the number of samples, or number of images, in the supplied array of image paths.  It is best to think of `nb_samples` as the number of 3D tensors (where each 3D tensor corresponds to a different image) in your dataset!"
   ]
  },
  {
   "cell_type": "code",
   "execution_count": 12,
   "metadata": {
    "collapsed": true
   },
   "outputs": [],
   "source": [
    "from keras.preprocessing import image\n",
    "from tqdm import tqdm\n",
    "\n",
    "def path_to_tensor(img_path):\n",
    "    # loads RGB image as PIL.Image.Image type\n",
    "    img = image.load_img(img_path, target_size=(224, 224))\n",
    "    # convert PIL.Image.Image type to 3D tensor with shape (224, 224, 3)\n",
    "    x = image.img_to_array(img)\n",
    "    # convert 3D tensor to 4D tensor with shape (1, 224, 224, 3) and return 4D tensor\n",
    "    return np.expand_dims(x, axis = 0)\n",
    "\n",
    "def paths_to_tensor(img_paths):\n",
    "    list_of_tensors = [path_to_tensor(img_path) for img_path in tqdm(img_paths)]\n",
    "    return np.vstack(list_of_tensors)"
   ]
  },
  {
   "cell_type": "markdown",
   "metadata": {},
   "source": [
    "### Making Predictions with ResNet-50\n",
    "\n",
    "Getting the 4D tensor ready for ResNet-50, and for any other pre-trained model in Keras, requires some additional processing.  First, the RGB image is converted to BGR by reordering the channels.  All pre-trained models have the additional normalization step that the mean pixel (expressed in RGB as $[103.939, 116.779, 123.68]$ and calculated from all pixels in all images in ImageNet) must be subtracted from every pixel in each image.  This is implemented in the imported function `preprocess_input`.  If you're curious, you can check the code for `preprocess_input` [here](https://github.com/fchollet/keras/blob/master/keras/applications/imagenet_utils.py).\n",
    "\n",
    "Now that we have a way to format our image for supplying to ResNet-50, we are now ready to use the model to extract the predictions.  This is accomplished with the `predict` method, which returns an array whose $i$-th entry is the model's predicted probability that the image belongs to the $i$-th ImageNet category.  This is implemented in the `ResNet50_predict_labels` function below.\n",
    "\n",
    "By taking the argmax of the predicted probability vector, we obtain an integer corresponding to the model's predicted object class, which we can identify with an object category through the use of this [dictionary](https://gist.github.com/yrevar/942d3a0ac09ec9e5eb3a). "
   ]
  },
  {
   "cell_type": "code",
   "execution_count": 13,
   "metadata": {
    "collapsed": true
   },
   "outputs": [],
   "source": [
    "from keras.applications.resnet50 import preprocess_input, decode_predictions\n",
    "\n",
    "def ResNet50_predict_labels(img_path):\n",
    "    # returns prediction vector for image located at img_path\n",
    "    img = preprocess_input(path_to_tensor(img_path))\n",
    "    return np.argmax(ResNet50_model.predict(img))"
   ]
  },
  {
   "cell_type": "markdown",
   "metadata": {},
   "source": [
    "### Write a Dog Detector\n",
    "\n",
    "While looking at the [dictionary](https://gist.github.com/yrevar/942d3a0ac09ec9e5eb3a), you will notice that the categories corresponding to dogs appear in an uninterrupted sequence and correspond to dictionary keys 151-268, inclusive, to include all categories from `'Chihuahua'` to `'Mexican hairless'`.  Thus, in order to check to see if an image is predicted to contain a dog by the pre-trained ResNet-50 model, we need only check if the `ResNet50_predict_labels` function above returns a value between 151 and 268 (inclusive).\n",
    "\n",
    "We use these ideas to complete the `dog_detector` function below, which returns `True` if a dog is detected in an image (and `False` if not)."
   ]
  },
  {
   "cell_type": "code",
   "execution_count": 14,
   "metadata": {
    "collapsed": true
   },
   "outputs": [],
   "source": [
    "### returns \"True\" if a dog is detected in the image stored at img_path\n",
    "def dog_detector(img_path):\n",
    "    prediction = ResNet50_predict_labels(img_path)\n",
    "    return ((prediction <= 268) & (prediction >= 151)) "
   ]
  },
  {
   "cell_type": "markdown",
   "metadata": {},
   "source": [
    "### (IMPLEMENTATION) Assess the Dog Detector\n",
    "\n",
    "__Question 3:__ Use the code cell below to test the performance of your `dog_detector` function.  \n",
    "- What percentage of the images in `human_files_short` have a detected dog?  \n",
    "- What percentage of the images in `dog_files_short` have a detected dog?\n",
    "\n",
    "__Answer:__ "
   ]
  },
  {
   "cell_type": "code",
   "execution_count": 15,
   "metadata": {},
   "outputs": [
    {
     "name": "stdout",
     "output_type": "stream",
     "text": [
      "Human Test Accuracy (by Resnet-Dog Detector): 0.0\n",
      "Dog Test Accuracy (by Resnet-Dog Detector): 1.0\n"
     ]
    }
   ],
   "source": [
    "### TODO: Test the performance of the dog_detector function\n",
    "### on the images in human_files_short and dog_files_short.\n",
    "\n",
    "human_resnet_test_acc = np.array([dog_detector(human_file) for human_file in human_files_short]).astype(int).mean()\n",
    "print(\"Human Test Accuracy (by Resnet-Dog Detector):\", human_resnet_test_acc)\n",
    "dog_resnet_test_acc = np.array([dog_detector(dog_file) for dog_file in dog_files_short]).astype(int).mean()\n",
    "print(\"Dog Test Accuracy (by Resnet-Dog Detector):\", dog_resnet_test_acc)"
   ]
  },
  {
   "cell_type": "markdown",
   "metadata": {},
   "source": [
    "---\n",
    "<a id='step3'></a>\n",
    "## Step 3: Create a CNN to Classify Dog Breeds (from Scratch)\n",
    "\n",
    "Now that we have functions for detecting humans and dogs in images, we need a way to predict breed from images.  In this step, you will create a CNN that classifies dog breeds.  You must create your CNN _from scratch_ (so, you can't use transfer learning _yet_!), and you must attain a test accuracy of at least 1%.  In Step 5 of this notebook, you will have the opportunity to use transfer learning to create a CNN that attains greatly improved accuracy.\n",
    "\n",
    "Be careful with adding too many trainable layers!  More parameters means longer training, which means you are more likely to need a GPU to accelerate the training process.  Thankfully, Keras provides a handy estimate of the time that each epoch is likely to take; you can extrapolate this estimate to figure out how long it will take for your algorithm to train. \n",
    "\n",
    "We mention that the task of assigning breed to dogs from images is considered exceptionally challenging.  To see why, consider that *even a human* would have great difficulty in distinguishing between a Brittany and a Welsh Springer Spaniel.  \n",
    "\n",
    "Brittany | Welsh Springer Spaniel\n",
    "- | -\n",
    "<img src=\"images/Brittany_02625.jpg\" width=\"100\"> | <img src=\"images/Welsh_springer_spaniel_08203.jpg\" width=\"200\">\n",
    "\n",
    "It is not difficult to find other dog breed pairs with minimal inter-class variation (for instance, Curly-Coated Retrievers and American Water Spaniels).  \n",
    "\n",
    "Curly-Coated Retriever | American Water Spaniel\n",
    "- | -\n",
    "<img src=\"images/Curly-coated_retriever_03896.jpg\" width=\"200\"> | <img src=\"images/American_water_spaniel_00648.jpg\" width=\"200\">\n",
    "\n",
    "\n",
    "Likewise, recall that labradors come in yellow, chocolate, and black.  Your vision-based algorithm will have to conquer this high intra-class variation to determine how to classify all of these different shades as the same breed.  \n",
    "\n",
    "Yellow Labrador | Chocolate Labrador | Black Labrador\n",
    "- | -\n",
    "<img src=\"images/Labrador_retriever_06457.jpg\" width=\"150\"> | <img src=\"images/Labrador_retriever_06455.jpg\" width=\"240\"> | <img src=\"images/Labrador_retriever_06449.jpg\" width=\"220\">\n",
    "\n",
    "We also mention that random chance presents an exceptionally low bar: setting aside the fact that the classes are slightly imabalanced, a random guess will provide a correct answer roughly 1 in 133 times, which corresponds to an accuracy of less than 1%.  \n",
    "\n",
    "Remember that the practice is far ahead of the theory in deep learning.  Experiment with many different architectures, and trust your intuition.  And, of course, have fun! \n",
    "\n",
    "### Pre-process the Data\n",
    "\n",
    "We rescale the images by dividing every pixel in every image by 255."
   ]
  },
  {
   "cell_type": "code",
   "execution_count": 16,
   "metadata": {},
   "outputs": [
    {
     "name": "stderr",
     "output_type": "stream",
     "text": [
      "100%|██████████| 6680/6680 [00:53<00:00, 124.40it/s]\n",
      "100%|██████████| 835/835 [00:06<00:00, 138.20it/s]\n",
      "100%|██████████| 836/836 [00:05<00:00, 139.54it/s]\n"
     ]
    }
   ],
   "source": [
    "from PIL import ImageFile                            \n",
    "ImageFile.LOAD_TRUNCATED_IMAGES = True                 \n",
    "\n",
    "# pre-process the data for Keras\n",
    "train_tensors = paths_to_tensor(train_files).astype('float32')/255\n",
    "valid_tensors = paths_to_tensor(valid_files).astype('float32')/255\n",
    "test_tensors = paths_to_tensor(test_files).astype('float32')/255"
   ]
  },
  {
   "cell_type": "markdown",
   "metadata": {},
   "source": [
    "### (IMPLEMENTATION) Model Architecture\n",
    "\n",
    "Create a CNN to classify dog breed.  At the end of your code cell block, summarize the layers of your model by executing the line:\n",
    "    \n",
    "        model.summary()\n",
    "\n",
    "We have imported some Python modules to get you started, but feel free to import as many modules as you need.  If you end up getting stuck, here's a hint that specifies a model that trains relatively fast on CPU and attains >1% test accuracy in 5 epochs:\n",
    "\n",
    "![Sample CNN](images/sample_cnn.png)\n",
    "           \n",
    "__Question 4:__ Outline the steps you took to get to your final CNN architecture and your reasoning at each step.  If you chose to use the hinted architecture above, describe why you think that CNN architecture should work well for the image classification task.\n",
    "\n",
    "__Answer:__ <br>\n"
   ]
  },
  {
   "cell_type": "markdown",
   "metadata": {},
   "source": [
    "Note: <br>\n",
    "Architecture Description: <br>\n",
    "1. {number of filters}C{kernel_size}({stride})P{pooling_size}({stride})<br>\n",
    "2. D{number of nodes}<br>\n",
    "\n",
    "Abbreivations:<br>\n",
    "1. Ep: Epoch\n",
    "2. BS: Batch Size\n",
    "3. Opt: Optimizer\n",
    "4. Drop: Dropout\n",
    "\n",
    "<table>\n",
    "    \n",
    "    <tr> <!--headers-->\n",
    "    <th>Model Number</th>\n",
    "    <th>Architecture</th>\n",
    "    <th>Compilation<br>(Ep/BS/Opt)</th>\n",
    "    <th>Reason/Results</th>\n",
    "    <th>Training Accuracy</th>\n",
    "    <th>Validation Accuracy</th>\n",
    "    <th>Test Accuracy</th>\n",
    "    </tr>\n",
    "    \n",
    "    <tr> <!--First Implementation-->\n",
    "    <td>#1</td>\n",
    "    <td>16C3(1)P3(2)-<br>32C3(1)P3(2)-<br>64C3(1)P3(2)-<br>GAP-<br>D133</td>\n",
    "    <td>10/20/RMSPROP</td>\n",
    "    <td>3 sequential concatenation of convolutional and pooling layer could be regarded as 3 levels of hierarchical features. The first block could stand for the color and outline of the dog in picture. The second block may be responsible for the body parts of the dog. Finally, the third block may outline the dog./<br> With this stack of layers, it may be able to detect the dog from other objects. However, in order to classify the dog breeds, the more representative(or breed-specific) features are needed. That is, a deeper CNN architecture must be built to gain those features.\n",
    "    </td>\n",
    "    <td>NAN</td>\n",
    "    <td>NAN</td>\n",
    "    <td>5.25%</td>\n",
    "    </tr>\n",
    "\n",
    "    <tr> <!--Second Implementation-->\n",
    "    <td>#2</td>\n",
    "    <td>16C3(1)P3(2)-<br>32C3(1)P3(2)-<br>64C3(1)P3(2)-<br>GAP-<br>D133</td>\n",
    "    <td>10/20/Adam</td>\n",
    "    <td>Try to use Adam optimizer to see if the model could get convergence quickly in 20 epochs/<br> With Adam Optimizer, it gets slightly higher test accuracy (1% higher)\n",
    "    </td>\n",
    "    <td>~6%</td>\n",
    "    <td>NAN</td>\n",
    "    <td>6.3%</td>\n",
    "    </tr>\n",
    "\n",
    "    <tr> <!--Third Implementation-->\n",
    "    <td>#3</td>\n",
    "    <td>16C5(1)BN-<br>16C3(1)BN-<br>P3(2)-<br>32C3(1)BN-<br>32C3(1)BN-<br>P3(2)-<br>64C3(1)BN-<br>64C3(1)BN-<br>P3(2)-<br>128C3(1)BN-<br>128C3(1)BN-<br>P3(2)-<br>GAP-<br>D133</td>\n",
    "    <td>10/20/Adam</td>\n",
    "    <td>Apply more complex model which are the blocks of 2 convolutional layers and 1 pooling layr. Also, I use batch normalization following every convolutional layer to help the model quickly converge. /<br> With this architecture, the validation accuracy quickly gets to 20% in 10 epochs. From the trend of the training and validation loss, the model could be still improved with more epochs or complex architecture. <br>It took around 86 seconds to run an epoch.\n",
    "    </td>\n",
    "    <td>38.97%</td>\n",
    "    <td>20.72%</td>\n",
    "    <td>NAN</td>\n",
    "    </tr>\n",
    "\n",
    "    <tr> <!--Fourth Implementation-->\n",
    "    <td>#4</td>\n",
    "    <td>16C5(1)BN-<br>P3(2)<br>32C3(1)BN-<br>32C3(1)BN-<br>P3(2)-<br>64C3(1)BN-<br>64C3(1)BN-<br>P3(2)-<br>128C3(1)BN-<br>128C3(1)BN-<br>P3(2)-<br>256C3(1)BN-<br>P3(2)-<br>GAP-BN-<br>D133</td>\n",
    "    <td>10/20/Adam</td>\n",
    "    <td>In this step, I made the model deeper which had a convolutional layer with 256 filters to try to overfit the training dataset./<br> With this architecture, the training accuracy reached 73% in epochs, but the validation accuracy only got to 27%. With this discrepancy, it could be inferred that the model overfitted the training dataset. <br>It took around 66 seconds to run an epoch.\n",
    "    </td>\n",
    "    <td>73.67%</td>\n",
    "    <td>27.66%</td>\n",
    "    <td>NAN</td>\n",
    "    </tr>\n",
    "\n",
    "    <tr> <!--Fifth Implementation-->\n",
    "    <td>#5</td>\n",
    "    <td>16C5(1)BN-<br>P3(2)<br>32C3(1)BN-<br>32C3(1)BN-<br>P3(2)-<br>64C3(1)BN-<br>64C3(1)BN-<br>P3(2)-<br>128C3(1)BN-<br>128C3(1)BN-<br>P3(2)-<br>256C3(1)BN-<br>P3(2)-<br>GAP-BN-<br>Drop(0.5)-<br>D133</td>\n",
    "    <td>10/20/Adam</td>\n",
    "    <td>In order to prevent overfitting, I added dropout in following the global average pooling layer and its batch normalization./<br> With applying dropout rate (0.5), the training accuracy in 10 epochs was 31.8% and the validation accuracy was 23.1%. From this result, it can be said that the model would need more epochs to train.<br>It took around 66 seconds to run an epoch.\n",
    "    </td>\n",
    "    <td>31.87%</td>\n",
    "    <td>23.11%</td>\n",
    "    <td>23.68%</td>\n",
    "    </tr>\n",
    "\n",
    "    <tr> <!--Sixth Implementation-->\n",
    "    <td>#6</td>\n",
    "    <td>16C5(1)BN-<br>P3(2)<br>32C3(1)BN-<br>32C3(1)BN-<br>P3(2)-<br>64C3(1)BN-<br>64C3(1)BN-<br>P3(2)-<br>128C3(1)BN-<br>128C3(1)BN-<br>P3(2)-<br>256C3(1)BN-<br>P3(2)-<br>GAP-BN-<br>Drop(0.5)-<br>D133</td>\n",
    "    <td>30/20/Adam</td>\n",
    "    <td>In this step, I trained the model with more epochs, that is 30, to see how the validation loss changed in these 30 epochs/<br>With more epochs, the validatio loss seemed not to decrease since 15 epochs around, but the training loss still decreased after 15 epochs. <br>It took around 67 seconds to run an epoch.\n",
    "    </td>\n",
    "    <td>88.76%</td>\n",
    "    <td>~40.72%</td>\n",
    "    <td>NAN</td>\n",
    "    </tr>\n",
    "\n",
    "    <tr> <!--Seventh Implementation-->\n",
    "    <td>#7</td>\n",
    "    <td>16C5(1)BN-<br>P3(2)<br>32C3(1)BN-<br>32C3(1)BN-<br>P3(2)-<br>64C3(1)BN-<br>64C3(1)BN-<br>P3(2)-<br>128C3(1)BN-<br>128C3(1)BN-<br>P3(2)-<br>256C3(1)BN-<br>P3(2)-<br>512C3(1)BN-<br>P3(2)-<br>Drop(0.8)-<br>GAP-BN-<br>Drop(0.5)-<br>D133</td>\n",
    "    <td>30/20/Adam</td>\n",
    "    <td>In order to prevent overfitting, I added dropout at the last block of the convolutional layer with max-pooling. Also, I increased the model complexity a little bit (made it deeper)/<br>In 30 epochs, the validatio loss didn't decrease after 15 epochs around, but the training loss still decreased after 15 epochs. This model achieved the test accuracy of 43.3%. The model still overfitted the training dataset <br>It took around 70 seconds to run an epoch. \n",
    "    </td>\n",
    "    <td>82.98%</td>\n",
    "    <td>~42.63%</td>\n",
    "    <td>43.3%</td>\n",
    "    </tr>\n",
    "\n",
    "\n",
    "</table>\n",
    "\n",
    "After the training above, I also use L2-regularization for each convolutional layers, but the test accuracy wasn't higher than the #7. To prevent overfitting, image augmentation may be the next step to train this model. Also, the model architecture may need some modification.\n"
   ]
  },
  {
   "cell_type": "code",
   "execution_count": 17,
   "metadata": {},
   "outputs": [
    {
     "name": "stdout",
     "output_type": "stream",
     "text": [
      "_________________________________________________________________\n",
      "Layer (type)                 Output Shape              Param #   \n",
      "=================================================================\n",
      "conv2d_1 (Conv2D)            (None, 224, 224, 16)      1216      \n",
      "_________________________________________________________________\n",
      "batch_normalization_1 (Batch (None, 224, 224, 16)      64        \n",
      "_________________________________________________________________\n",
      "max_pooling2d_2 (MaxPooling2 (None, 112, 112, 16)      0         \n",
      "_________________________________________________________________\n",
      "conv2d_2 (Conv2D)            (None, 112, 112, 32)      4640      \n",
      "_________________________________________________________________\n",
      "batch_normalization_2 (Batch (None, 112, 112, 32)      128       \n",
      "_________________________________________________________________\n",
      "conv2d_3 (Conv2D)            (None, 112, 112, 32)      9248      \n",
      "_________________________________________________________________\n",
      "batch_normalization_3 (Batch (None, 112, 112, 32)      128       \n",
      "_________________________________________________________________\n",
      "max_pooling2d_3 (MaxPooling2 (None, 56, 56, 32)        0         \n",
      "_________________________________________________________________\n",
      "conv2d_4 (Conv2D)            (None, 56, 56, 64)        18496     \n",
      "_________________________________________________________________\n",
      "batch_normalization_4 (Batch (None, 56, 56, 64)        256       \n",
      "_________________________________________________________________\n",
      "conv2d_5 (Conv2D)            (None, 56, 56, 64)        36928     \n",
      "_________________________________________________________________\n",
      "batch_normalization_5 (Batch (None, 56, 56, 64)        256       \n",
      "_________________________________________________________________\n",
      "max_pooling2d_4 (MaxPooling2 (None, 28, 28, 64)        0         \n",
      "_________________________________________________________________\n",
      "conv2d_6 (Conv2D)            (None, 28, 28, 128)       73856     \n",
      "_________________________________________________________________\n",
      "batch_normalization_6 (Batch (None, 28, 28, 128)       512       \n",
      "_________________________________________________________________\n",
      "conv2d_7 (Conv2D)            (None, 28, 28, 128)       147584    \n",
      "_________________________________________________________________\n",
      "batch_normalization_7 (Batch (None, 28, 28, 128)       512       \n",
      "_________________________________________________________________\n",
      "max_pooling2d_5 (MaxPooling2 (None, 14, 14, 128)       0         \n",
      "_________________________________________________________________\n",
      "conv2d_8 (Conv2D)            (None, 14, 14, 256)       295168    \n",
      "_________________________________________________________________\n",
      "batch_normalization_8 (Batch (None, 14, 14, 256)       1024      \n",
      "_________________________________________________________________\n",
      "max_pooling2d_6 (MaxPooling2 (None, 7, 7, 256)         0         \n",
      "_________________________________________________________________\n",
      "conv2d_9 (Conv2D)            (None, 7, 7, 512)         1180160   \n",
      "_________________________________________________________________\n",
      "batch_normalization_9 (Batch (None, 7, 7, 512)         2048      \n",
      "_________________________________________________________________\n",
      "max_pooling2d_7 (MaxPooling2 (None, 4, 4, 512)         0         \n",
      "_________________________________________________________________\n",
      "dropout_1 (Dropout)          (None, 4, 4, 512)         0         \n",
      "_________________________________________________________________\n",
      "global_average_pooling2d_1 ( (None, 512)               0         \n",
      "_________________________________________________________________\n",
      "batch_normalization_10 (Batc (None, 512)               2048      \n",
      "_________________________________________________________________\n",
      "dropout_2 (Dropout)          (None, 512)               0         \n",
      "_________________________________________________________________\n",
      "dense_1 (Dense)              (None, 133)               68229     \n",
      "=================================================================\n",
      "Total params: 1,842,501\n",
      "Trainable params: 1,839,013\n",
      "Non-trainable params: 3,488\n",
      "_________________________________________________________________\n"
     ]
    }
   ],
   "source": [
    "from keras.layers import Conv2D, MaxPooling2D, GlobalAveragePooling2D\n",
    "from keras.layers import Dropout, Flatten, Dense\n",
    "from keras.layers.normalization import BatchNormalization\n",
    "from keras.models import Sequential\n",
    "\n",
    "\n",
    "model = Sequential()\n",
    "\n",
    "### Define architecture. (#~10)\n",
    "\n",
    "model.add(Conv2D(filters=16, kernel_size=(5,5), padding='same', activation='relu', input_shape=(224, 224, 3)))\n",
    "model.add(BatchNormalization())\n",
    "model.add(MaxPooling2D(pool_size=(3,3), strides=(2,2), padding='same'))\n",
    "model.add(Conv2D(filters=32, kernel_size=(3,3), padding='same', activation='relu'))\n",
    "model.add(BatchNormalization())\n",
    "model.add(Conv2D(filters=32, kernel_size=(3,3), padding='same', activation='relu'))\n",
    "model.add(BatchNormalization())\n",
    "model.add(MaxPooling2D(pool_size=(3,3), strides=(2,2), padding='same'))\n",
    "model.add(Conv2D(filters=64, kernel_size=(3,3), padding='same', activation='relu'))\n",
    "model.add(BatchNormalization())\n",
    "model.add(Conv2D(filters=64, kernel_size=(3,3), padding='same', activation='relu'))\n",
    "model.add(BatchNormalization())\n",
    "model.add(MaxPooling2D(pool_size=(3,3), strides=(2,2), padding='same'))\n",
    "model.add(Conv2D(filters=128, kernel_size=(3,3), padding='same', activation='relu'))\n",
    "model.add(BatchNormalization())\n",
    "model.add(Conv2D(filters=128, kernel_size=(3,3), padding='same', activation='relu'))\n",
    "model.add(BatchNormalization())\n",
    "model.add(MaxPooling2D(pool_size=(3,3), strides=(2,2), padding='same'))\n",
    "model.add(Conv2D(filters=256, kernel_size=(3,3), padding='same', activation='relu'))\n",
    "model.add(BatchNormalization())\n",
    "model.add(MaxPooling2D(pool_size=(3,3), strides=(2,2), padding='same'))\n",
    "model.add(Conv2D(filters=512, kernel_size=(3,3), padding='same', activation='relu'))\n",
    "model.add(BatchNormalization())\n",
    "model.add(MaxPooling2D(pool_size=(3,3), strides=(2,2), padding='same'))\n",
    "model.add(Dropout(0.8))\n",
    "model.add(GlobalAveragePooling2D())\n",
    "model.add(BatchNormalization())\n",
    "model.add(Dropout(0.5))\n",
    "model.add(Dense(133, activation='softmax'))\n",
    "\n",
    "model.summary()"
   ]
  },
  {
   "cell_type": "markdown",
   "metadata": {},
   "source": [
    "### Compile the Model"
   ]
  },
  {
   "cell_type": "code",
   "execution_count": 25,
   "metadata": {
    "collapsed": true
   },
   "outputs": [],
   "source": [
    "model.compile(optimizer='adam', loss='categorical_crossentropy', metrics=['accuracy'])"
   ]
  },
  {
   "cell_type": "markdown",
   "metadata": {},
   "source": [
    "### (IMPLEMENTATION) Train the Model\n",
    "\n",
    "Train your model in the code cell below.  Use model checkpointing to save the model that attains the best validation loss.\n",
    "\n",
    "You are welcome to [augment the training data](https://blog.keras.io/building-powerful-image-classification-models-using-very-little-data.html), but this is not a requirement. "
   ]
  },
  {
   "cell_type": "code",
   "execution_count": 26,
   "metadata": {},
   "outputs": [
    {
     "name": "stdout",
     "output_type": "stream",
     "text": [
      "Train on 6680 samples, validate on 835 samples\n",
      "Epoch 1/30\n",
      "6660/6680 [============================>.] - ETA: 0s - loss: 5.9666 - acc: 0.0210Epoch 00000: val_loss improved from inf to 6.02426, saving model to saved_models/weights.best.from_scratch_14.hdf5\n",
      "6680/6680 [==============================] - 57s - loss: 5.9657 - acc: 0.0211 - val_loss: 6.0243 - val_acc: 0.0251\n",
      "Epoch 2/30\n",
      "6660/6680 [============================>.] - ETA: 0s - loss: 5.2646 - acc: 0.0353Epoch 00001: val_loss improved from 6.02426 to 5.36122, saving model to saved_models/weights.best.from_scratch_14.hdf5\n",
      "6680/6680 [==============================] - 56s - loss: 5.2631 - acc: 0.0356 - val_loss: 5.3612 - val_acc: 0.0431\n",
      "Epoch 3/30\n",
      "6660/6680 [============================>.] - ETA: 0s - loss: 4.8469 - acc: 0.0547Epoch 00002: val_loss improved from 5.36122 to 5.05933, saving model to saved_models/weights.best.from_scratch_14.hdf5\n",
      "6680/6680 [==============================] - 56s - loss: 4.8475 - acc: 0.0546 - val_loss: 5.0593 - val_acc: 0.0455\n",
      "Epoch 4/30\n",
      "6660/6680 [============================>.] - ETA: 0s - loss: 4.4958 - acc: 0.0710Epoch 00003: val_loss improved from 5.05933 to 4.40020, saving model to saved_models/weights.best.from_scratch_14.hdf5\n",
      "6680/6680 [==============================] - 56s - loss: 4.4954 - acc: 0.0710 - val_loss: 4.4002 - val_acc: 0.0695\n",
      "Epoch 5/30\n",
      "6660/6680 [============================>.] - ETA: 0s - loss: 4.1881 - acc: 0.0944Epoch 00004: val_loss did not improve\n",
      "6680/6680 [==============================] - 55s - loss: 4.1900 - acc: 0.0943 - val_loss: 7.2621 - val_acc: 0.0096\n",
      "Epoch 6/30\n",
      "6660/6680 [============================>.] - ETA: 0s - loss: 4.2143 - acc: 0.0989Epoch 00005: val_loss improved from 4.40020 to 3.86297, saving model to saved_models/weights.best.from_scratch_14.hdf5\n",
      "6680/6680 [==============================] - 56s - loss: 4.2138 - acc: 0.0990 - val_loss: 3.8630 - val_acc: 0.1305\n",
      "Epoch 7/30\n",
      "6660/6680 [============================>.] - ETA: 0s - loss: 3.7166 - acc: 0.1461Epoch 00006: val_loss did not improve\n",
      "6680/6680 [==============================] - 55s - loss: 3.7165 - acc: 0.1463 - val_loss: 3.9190 - val_acc: 0.1162\n",
      "Epoch 8/30\n",
      "6660/6680 [============================>.] - ETA: 0s - loss: 3.4432 - acc: 0.1826Epoch 00007: val_loss improved from 3.86297 to 3.51940, saving model to saved_models/weights.best.from_scratch_14.hdf5\n",
      "6680/6680 [==============================] - 56s - loss: 3.4472 - acc: 0.1822 - val_loss: 3.5194 - val_acc: 0.1737\n",
      "Epoch 9/30\n",
      "6660/6680 [============================>.] - ETA: 0s - loss: 3.1641 - acc: 0.2176Epoch 00008: val_loss improved from 3.51940 to 3.27978, saving model to saved_models/weights.best.from_scratch_14.hdf5\n",
      "6680/6680 [==============================] - 56s - loss: 3.1655 - acc: 0.2172 - val_loss: 3.2798 - val_acc: 0.2072\n",
      "Epoch 10/30\n",
      "6660/6680 [============================>.] - ETA: 0s - loss: 2.9754 - acc: 0.2494Epoch 00009: val_loss did not improve\n",
      "6680/6680 [==============================] - 55s - loss: 2.9740 - acc: 0.2497 - val_loss: 3.5505 - val_acc: 0.1677\n",
      "Epoch 11/30\n",
      "6660/6680 [============================>.] - ETA: 0s - loss: 2.6701 - acc: 0.3039Epoch 00010: val_loss improved from 3.27978 to 2.97214, saving model to saved_models/weights.best.from_scratch_14.hdf5\n",
      "6680/6680 [==============================] - 56s - loss: 2.6685 - acc: 0.3045 - val_loss: 2.9721 - val_acc: 0.2695\n",
      "Epoch 12/30\n",
      "6660/6680 [============================>.] - ETA: 0s - loss: 2.5143 - acc: 0.3371Epoch 00011: val_loss did not improve\n",
      "6680/6680 [==============================] - 55s - loss: 2.5131 - acc: 0.3373 - val_loss: 2.9957 - val_acc: 0.2731\n",
      "Epoch 13/30\n",
      "6660/6680 [============================>.] - ETA: 0s - loss: 2.1924 - acc: 0.3967Epoch 00012: val_loss did not improve\n",
      "6680/6680 [==============================] - 55s - loss: 2.1919 - acc: 0.3973 - val_loss: 3.0675 - val_acc: 0.2515\n",
      "Epoch 14/30\n",
      "6660/6680 [============================>.] - ETA: 0s - loss: 2.1138 - acc: 0.4282Epoch 00013: val_loss did not improve\n",
      "6680/6680 [==============================] - 55s - loss: 2.1137 - acc: 0.4281 - val_loss: 3.7171 - val_acc: 0.1760\n",
      "Epoch 15/30\n",
      "6660/6680 [============================>.] - ETA: 0s - loss: 1.8292 - acc: 0.4899Epoch 00014: val_loss improved from 2.97214 to 2.92628, saving model to saved_models/weights.best.from_scratch_14.hdf5\n",
      "6680/6680 [==============================] - 56s - loss: 1.8312 - acc: 0.4895 - val_loss: 2.9263 - val_acc: 0.2743\n",
      "Epoch 16/30\n",
      "6660/6680 [============================>.] - ETA: 0s - loss: 1.5883 - acc: 0.5401Epoch 00015: val_loss improved from 2.92628 to 2.77366, saving model to saved_models/weights.best.from_scratch_14.hdf5\n",
      "6680/6680 [==============================] - 56s - loss: 1.5882 - acc: 0.5401 - val_loss: 2.7737 - val_acc: 0.3210\n",
      "Epoch 17/30\n",
      "6660/6680 [============================>.] - ETA: 0s - loss: 1.3759 - acc: 0.5973Epoch 00016: val_loss improved from 2.77366 to 2.76750, saving model to saved_models/weights.best.from_scratch_14.hdf5\n",
      "6680/6680 [==============================] - 56s - loss: 1.3773 - acc: 0.5973 - val_loss: 2.7675 - val_acc: 0.3257\n",
      "Epoch 18/30\n",
      "6660/6680 [============================>.] - ETA: 0s - loss: 1.1956 - acc: 0.6411Epoch 00017: val_loss did not improve\n",
      "6680/6680 [==============================] - 55s - loss: 1.1963 - acc: 0.6410 - val_loss: 2.8530 - val_acc: 0.3341\n",
      "Epoch 19/30\n",
      "6660/6680 [============================>.] - ETA: 0s - loss: 1.0263 - acc: 0.6862Epoch 00018: val_loss improved from 2.76750 to 2.73320, saving model to saved_models/weights.best.from_scratch_14.hdf5\n",
      "6680/6680 [==============================] - 56s - loss: 1.0266 - acc: 0.6861 - val_loss: 2.7332 - val_acc: 0.3401\n",
      "Epoch 20/30\n",
      "6660/6680 [============================>.] - ETA: 0s - loss: 0.9048 - acc: 0.7260Epoch 00019: val_loss did not improve\n",
      "6680/6680 [==============================] - 55s - loss: 0.9063 - acc: 0.7257 - val_loss: 3.1083 - val_acc: 0.3174\n",
      "Epoch 21/30\n",
      "6660/6680 [============================>.] - ETA: 0s - loss: 0.8011 - acc: 0.7602Epoch 00020: val_loss did not improve\n",
      "6680/6680 [==============================] - 55s - loss: 0.8009 - acc: 0.7600 - val_loss: 3.3327 - val_acc: 0.2946\n",
      "Epoch 22/30\n",
      "6660/6680 [============================>.] - ETA: 0s - loss: 0.7127 - acc: 0.7850Epoch 00021: val_loss did not improve\n",
      "6680/6680 [==============================] - 55s - loss: 0.7116 - acc: 0.7853 - val_loss: 3.1155 - val_acc: 0.3138\n",
      "Epoch 23/30\n",
      "6660/6680 [============================>.] - ETA: 0s - loss: 0.6467 - acc: 0.7953Epoch 00022: val_loss did not improve\n",
      "6680/6680 [==============================] - 55s - loss: 0.6469 - acc: 0.7955 - val_loss: 3.1453 - val_acc: 0.3162\n",
      "Epoch 24/30\n",
      "6660/6680 [============================>.] - ETA: 0s - loss: 0.5635 - acc: 0.8246Epoch 00023: val_loss did not improve\n",
      "6680/6680 [==============================] - 55s - loss: 0.5665 - acc: 0.8237 - val_loss: 3.2594 - val_acc: 0.3198\n",
      "Epoch 25/30\n",
      "6660/6680 [============================>.] - ETA: 0s - loss: 0.5021 - acc: 0.8444Epoch 00024: val_loss did not improve\n",
      "6680/6680 [==============================] - 55s - loss: 0.5021 - acc: 0.8446 - val_loss: 3.6835 - val_acc: 0.2922\n",
      "Epoch 26/30\n",
      "6660/6680 [============================>.] - ETA: 0s - loss: 0.4453 - acc: 0.8577Epoch 00025: val_loss did not improve\n",
      "6680/6680 [==============================] - 55s - loss: 0.4453 - acc: 0.8575 - val_loss: 3.0786 - val_acc: 0.3760\n",
      "Epoch 27/30\n",
      "6660/6680 [============================>.] - ETA: 0s - loss: 0.4425 - acc: 0.8595Epoch 00026: val_loss did not improve\n",
      "6680/6680 [==============================] - 55s - loss: 0.4435 - acc: 0.8591 - val_loss: 3.4871 - val_acc: 0.3293\n",
      "Epoch 28/30\n",
      "6660/6680 [============================>.] - ETA: 0s - loss: 0.4178 - acc: 0.8647Epoch 00027: val_loss did not improve\n",
      "6680/6680 [==============================] - 55s - loss: 0.4179 - acc: 0.8647 - val_loss: 3.4469 - val_acc: 0.3305\n",
      "Epoch 29/30\n",
      "6660/6680 [============================>.] - ETA: 0s - loss: 0.4010 - acc: 0.8710Epoch 00028: val_loss did not improve\n",
      "6680/6680 [==============================] - 55s - loss: 0.4004 - acc: 0.8711 - val_loss: 3.5817 - val_acc: 0.3234\n",
      "Epoch 30/30\n",
      "6660/6680 [============================>.] - ETA: 0s - loss: 0.3924 - acc: 0.8740Epoch 00029: val_loss did not improve\n",
      "6680/6680 [==============================] - 55s - loss: 0.3919 - acc: 0.8741 - val_loss: 3.4977 - val_acc: 0.3485\n"
     ]
    }
   ],
   "source": [
    "from keras.callbacks import ModelCheckpoint  \n",
    "\n",
    "### specify the number of epochs that you would like to use to train the model.\n",
    "\n",
    "epochs = 30\n",
    "\n",
    "### Do NOT modify the code below this line.\n",
    "\n",
    "checkpointer = ModelCheckpoint(filepath='saved_models/weights.best.from_scratch_14.hdf5', \n",
    "                               verbose=1, save_best_only=True)\n",
    "\n",
    "history = model.fit(train_tensors, train_targets, \n",
    "          validation_data=(valid_tensors, valid_targets),\n",
    "          epochs=epochs, batch_size=20, callbacks=[checkpointer], verbose=1)"
   ]
  },
  {
   "cell_type": "markdown",
   "metadata": {},
   "source": [
    "### Plot the training and validation loss curves"
   ]
  },
  {
   "cell_type": "code",
   "execution_count": 27,
   "metadata": {
    "scrolled": true
   },
   "outputs": [
    {
     "data": {
      "text/plain": [
       "[<matplotlib.lines.Line2D at 0x7fc2d1a26080>]"
      ]
     },
     "execution_count": 27,
     "metadata": {},
     "output_type": "execute_result"
    },
    {
     "data": {
      "image/png": "[encoded data removed]",
      "text/plain": [
       "<matplotlib.figure.Figure at 0x7fc2d1a26048>"
      ]
     },
     "metadata": {},
     "output_type": "display_data"
    }
   ],
   "source": [
    "import matplotlib.pyplot as plt\n",
    "plt.plot(history.history['val_loss'], color='r')\n",
    "plt.plot(history.history['loss'], color='b')"
   ]
  },
  {
   "cell_type": "markdown",
   "metadata": {},
   "source": [
    "### Load the Model with the Best Validation Loss"
   ]
  },
  {
   "cell_type": "code",
   "execution_count": 30,
   "metadata": {
    "collapsed": true
   },
   "outputs": [],
   "source": [
    "model.load_weights('saved_models/weights.best.from_scratch_14.hdf5')"
   ]
  },
  {
   "cell_type": "markdown",
   "metadata": {},
   "source": [
    "### Test the Model\n",
    "\n",
    "Try out your model on the test dataset of dog images.  Ensure that your test accuracy is greater than 1%."
   ]
  },
  {
   "cell_type": "code",
   "execution_count": 31,
   "metadata": {},
   "outputs": [
    {
     "name": "stdout",
     "output_type": "stream",
     "text": [
      "Test accuracy: 36.6029%\n"
     ]
    }
   ],
   "source": [
    "# get index of predicted dog breed for each image in test set\n",
    "dog_breed_predictions = [np.argmax(model.predict(np.expand_dims(tensor, axis=0))) for tensor in test_tensors]\n",
    "\n",
    "# report test accuracy\n",
    "test_accuracy = 100*np.sum(np.array(dog_breed_predictions)==np.argmax(test_targets, axis=1))/len(dog_breed_predictions)\n",
    "print('Test accuracy: %.4f%%' % test_accuracy)"
   ]
  },
  {
   "cell_type": "markdown",
   "metadata": {},
   "source": [
    "---\n",
    "<a id='step4'></a>\n",
    "## Step 4: Use a CNN to Classify Dog Breeds\n",
    "\n",
    "To reduce training time without sacrificing accuracy, we show you how to train a CNN using transfer learning.  In the following step, you will get a chance to use transfer learning to train your own CNN.\n",
    "\n",
    "### Obtain Bottleneck Features"
   ]
  },
  {
   "cell_type": "code",
   "execution_count": 18,
   "metadata": {
    "collapsed": true
   },
   "outputs": [],
   "source": [
    "bottleneck_features = np.load('bottleneck_features/DogVGG16Data.npz')\n",
    "train_VGG16 = bottleneck_features['train']\n",
    "valid_VGG16 = bottleneck_features['valid']\n",
    "test_VGG16 = bottleneck_features['test']"
   ]
  },
  {
   "cell_type": "markdown",
   "metadata": {},
   "source": [
    "### Model Architecture\n",
    "\n",
    "The model uses the the pre-trained VGG-16 model as a fixed feature extractor, where the last convolutional output of VGG-16 is fed as input to our model.  We only add a global average pooling layer and a fully connected layer, where the latter contains one node for each dog category and is equipped with a softmax."
   ]
  },
  {
   "cell_type": "code",
   "execution_count": 19,
   "metadata": {},
   "outputs": [
    {
     "name": "stdout",
     "output_type": "stream",
     "text": [
      "_________________________________________________________________\n",
      "Layer (type)                 Output Shape              Param #   \n",
      "=================================================================\n",
      "global_average_pooling2d_2 ( (None, 512)               0         \n",
      "_________________________________________________________________\n",
      "dense_2 (Dense)              (None, 133)               68229     \n",
      "=================================================================\n",
      "Total params: 68,229\n",
      "Trainable params: 68,229\n",
      "Non-trainable params: 0\n",
      "_________________________________________________________________\n"
     ]
    }
   ],
   "source": [
    "VGG16_model = Sequential()\n",
    "VGG16_model.add(GlobalAveragePooling2D(input_shape=train_VGG16.shape[1:]))\n",
    "VGG16_model.add(Dense(133, activation='softmax'))\n",
    "\n",
    "VGG16_model.summary()"
   ]
  },
  {
   "cell_type": "markdown",
   "metadata": {},
   "source": [
    "### Compile the Model"
   ]
  },
  {
   "cell_type": "code",
   "execution_count": 20,
   "metadata": {
    "collapsed": true
   },
   "outputs": [],
   "source": [
    "VGG16_model.compile(loss='categorical_crossentropy', optimizer='rmsprop', metrics=['accuracy'])"
   ]
  },
  {
   "cell_type": "markdown",
   "metadata": {},
   "source": [
    "### Train the Model"
   ]
  },
  {
   "cell_type": "code",
   "execution_count": 22,
   "metadata": {},
   "outputs": [
    {
     "name": "stdout",
     "output_type": "stream",
     "text": [
      "Train on 6680 samples, validate on 835 samples\n",
      "Epoch 1/20\n",
      "6640/6680 [============================>.] - ETA: 0s - loss: 12.4627 - acc: 0.1202Epoch 00000: val_loss improved from inf to 11.29518, saving model to saved_models/weights.best.VGG16.hdf5\n",
      "6680/6680 [==============================] - 1s - loss: 12.4631 - acc: 0.1201 - val_loss: 11.2952 - val_acc: 0.1880\n",
      "Epoch 2/20\n",
      "6600/6680 [============================>.] - ETA: 0s - loss: 10.4105 - acc: 0.2656Epoch 00001: val_loss improved from 11.29518 to 10.33521, saving model to saved_models/weights.best.VGG16.hdf5\n",
      "6680/6680 [==============================] - 1s - loss: 10.4259 - acc: 0.2645 - val_loss: 10.3352 - val_acc: 0.2539\n",
      "Epoch 3/20\n",
      "6500/6680 [============================>.] - ETA: 0s - loss: 9.8773 - acc: 0.3286Epoch 00002: val_loss improved from 10.33521 to 10.01613, saving model to saved_models/weights.best.VGG16.hdf5\n",
      "6680/6680 [==============================] - 1s - loss: 9.8908 - acc: 0.3283 - val_loss: 10.0161 - val_acc: 0.3006\n",
      "Epoch 4/20\n",
      "6580/6680 [============================>.] - ETA: 0s - loss: 9.5610 - acc: 0.3614Epoch 00003: val_loss improved from 10.01613 to 9.81675, saving model to saved_models/weights.best.VGG16.hdf5\n",
      "6680/6680 [==============================] - 1s - loss: 9.5645 - acc: 0.3609 - val_loss: 9.8167 - val_acc: 0.3222\n",
      "Epoch 5/20\n",
      "6560/6680 [============================>.] - ETA: 0s - loss: 9.4378 - acc: 0.3808Epoch 00004: val_loss improved from 9.81675 to 9.81443, saving model to saved_models/weights.best.VGG16.hdf5\n",
      "6680/6680 [==============================] - 1s - loss: 9.4239 - acc: 0.3819 - val_loss: 9.8144 - val_acc: 0.3222\n",
      "Epoch 6/20\n",
      "6540/6680 [============================>.] - ETA: 0s - loss: 9.2219 - acc: 0.3992Epoch 00005: val_loss improved from 9.81443 to 9.63319, saving model to saved_models/weights.best.VGG16.hdf5\n",
      "6680/6680 [==============================] - 1s - loss: 9.2229 - acc: 0.3990 - val_loss: 9.6332 - val_acc: 0.3389\n",
      "Epoch 7/20\n",
      "6560/6680 [============================>.] - ETA: 0s - loss: 9.1208 - acc: 0.4165Epoch 00006: val_loss improved from 9.63319 to 9.55722, saving model to saved_models/weights.best.VGG16.hdf5\n",
      "6680/6680 [==============================] - 1s - loss: 9.1241 - acc: 0.4157 - val_loss: 9.5572 - val_acc: 0.3365\n",
      "Epoch 8/20\n",
      "6580/6680 [============================>.] - ETA: 0s - loss: 8.9350 - acc: 0.4231Epoch 00007: val_loss improved from 9.55722 to 9.35436, saving model to saved_models/weights.best.VGG16.hdf5\n",
      "6680/6680 [==============================] - 1s - loss: 8.9216 - acc: 0.4232 - val_loss: 9.3544 - val_acc: 0.3473\n",
      "Epoch 9/20\n",
      "6560/6680 [============================>.] - ETA: 0s - loss: 8.8073 - acc: 0.4375Epoch 00008: val_loss did not improve\n",
      "6680/6680 [==============================] - 1s - loss: 8.8102 - acc: 0.4368 - val_loss: 9.3950 - val_acc: 0.3497\n",
      "Epoch 10/20\n",
      "6580/6680 [============================>.] - ETA: 0s - loss: 8.7735 - acc: 0.4413Epoch 00009: val_loss improved from 9.35436 to 9.33537, saving model to saved_models/weights.best.VGG16.hdf5\n",
      "6680/6680 [==============================] - 1s - loss: 8.7530 - acc: 0.4422 - val_loss: 9.3354 - val_acc: 0.3593\n",
      "Epoch 11/20\n",
      "6580/6680 [============================>.] - ETA: 0s - loss: 8.7215 - acc: 0.4476Epoch 00010: val_loss improved from 9.33537 to 9.28900, saving model to saved_models/weights.best.VGG16.hdf5\n",
      "6680/6680 [==============================] - 1s - loss: 8.7208 - acc: 0.4475 - val_loss: 9.2890 - val_acc: 0.3629\n",
      "Epoch 12/20\n",
      "6520/6680 [============================>.] - ETA: 0s - loss: 8.5841 - acc: 0.4488Epoch 00011: val_loss improved from 9.28900 to 9.10692, saving model to saved_models/weights.best.VGG16.hdf5\n",
      "6680/6680 [==============================] - 1s - loss: 8.5861 - acc: 0.4487 - val_loss: 9.1069 - val_acc: 0.3629\n",
      "Epoch 13/20\n",
      "6540/6680 [============================>.] - ETA: 0s - loss: 8.5050 - acc: 0.4560Epoch 00012: val_loss improved from 9.10692 to 9.05324, saving model to saved_models/weights.best.VGG16.hdf5\n",
      "6680/6680 [==============================] - 1s - loss: 8.4863 - acc: 0.4570 - val_loss: 9.0532 - val_acc: 0.3772\n",
      "Epoch 14/20\n",
      "6560/6680 [============================>.] - ETA: 0s - loss: 8.4502 - acc: 0.4649Epoch 00013: val_loss did not improve\n",
      "6680/6680 [==============================] - 1s - loss: 8.4485 - acc: 0.4650 - val_loss: 9.0880 - val_acc: 0.3820\n",
      "Epoch 15/20\n",
      "6540/6680 [============================>.] - ETA: 0s - loss: 8.3492 - acc: 0.4673Epoch 00014: val_loss improved from 9.05324 to 8.98528, saving model to saved_models/weights.best.VGG16.hdf5\n",
      "6680/6680 [==============================] - 1s - loss: 8.3414 - acc: 0.4678 - val_loss: 8.9853 - val_acc: 0.3749\n",
      "Epoch 16/20\n",
      "6560/6680 [============================>.] - ETA: 0s - loss: 8.1926 - acc: 0.4814Epoch 00015: val_loss improved from 8.98528 to 8.87026, saving model to saved_models/weights.best.VGG16.hdf5\n",
      "6680/6680 [==============================] - 1s - loss: 8.2083 - acc: 0.4801 - val_loss: 8.8703 - val_acc: 0.3820\n",
      "Epoch 17/20\n",
      "6540/6680 [============================>.] - ETA: 0s - loss: 8.0537 - acc: 0.4850Epoch 00016: val_loss improved from 8.87026 to 8.71229, saving model to saved_models/weights.best.VGG16.hdf5\n",
      "6680/6680 [==============================] - 1s - loss: 8.0453 - acc: 0.4855 - val_loss: 8.7123 - val_acc: 0.4000\n",
      "Epoch 18/20\n",
      "6540/6680 [============================>.] - ETA: 0s - loss: 7.9379 - acc: 0.4948Epoch 00017: val_loss improved from 8.71229 to 8.56200, saving model to saved_models/weights.best.VGG16.hdf5\n",
      "6680/6680 [==============================] - 1s - loss: 7.9109 - acc: 0.4963 - val_loss: 8.5620 - val_acc: 0.4156\n",
      "Epoch 19/20\n",
      "6520/6680 [============================>.] - ETA: 0s - loss: 7.8464 - acc: 0.5063Epoch 00018: val_loss did not improve\n",
      "6680/6680 [==============================] - 1s - loss: 7.8441 - acc: 0.5064 - val_loss: 8.5992 - val_acc: 0.4036\n",
      "Epoch 20/20\n",
      "6520/6680 [============================>.] - ETA: 0s - loss: 7.8273 - acc: 0.5095Epoch 00019: val_loss did not improve\n",
      "6680/6680 [==============================] - 1s - loss: 7.8269 - acc: 0.5096 - val_loss: 8.6158 - val_acc: 0.4168\n"
     ]
    },
    {
     "data": {
      "text/plain": [
       "<keras.callbacks.History at 0x7f2d7211add8>"
      ]
     },
     "execution_count": 22,
     "metadata": {},
     "output_type": "execute_result"
    }
   ],
   "source": [
    "from keras.callbacks import ModelCheckpoint \n",
    "checkpointer = ModelCheckpoint(filepath='saved_models/weights.best.VGG16.hdf5', \n",
    "                               verbose=1, save_best_only=True)\n",
    "\n",
    "VGG16_model.fit(train_VGG16, train_targets, \n",
    "          validation_data=(valid_VGG16, valid_targets),\n",
    "          epochs=20, batch_size=20, callbacks=[checkpointer], verbose=1)"
   ]
  },
  {
   "cell_type": "markdown",
   "metadata": {},
   "source": [
    "### Load the Model with the Best Validation Loss"
   ]
  },
  {
   "cell_type": "code",
   "execution_count": 23,
   "metadata": {
    "collapsed": true
   },
   "outputs": [],
   "source": [
    "VGG16_model.load_weights('saved_models/weights.best.VGG16.hdf5')"
   ]
  },
  {
   "cell_type": "markdown",
   "metadata": {},
   "source": [
    "### Test the Model\n",
    "\n",
    "Now, we can use the CNN to test how well it identifies breed within our test dataset of dog images.  We print the test accuracy below."
   ]
  },
  {
   "cell_type": "code",
   "execution_count": 24,
   "metadata": {},
   "outputs": [
    {
     "name": "stdout",
     "output_type": "stream",
     "text": [
      "Test accuracy: 39.9522%\n"
     ]
    }
   ],
   "source": [
    "# get index of predicted dog breed for each image in test set\n",
    "VGG16_predictions = [np.argmax(VGG16_model.predict(np.expand_dims(feature, axis=0))) for feature in test_VGG16]\n",
    "\n",
    "# report test accuracy\n",
    "test_accuracy = 100*np.sum(np.array(VGG16_predictions)==np.argmax(test_targets, axis=1))/len(VGG16_predictions)\n",
    "print('Test accuracy: %.4f%%' % test_accuracy)"
   ]
  },
  {
   "cell_type": "markdown",
   "metadata": {},
   "source": [
    "### Predict Dog Breed with the Model"
   ]
  },
  {
   "cell_type": "code",
   "execution_count": 25,
   "metadata": {
    "collapsed": true
   },
   "outputs": [],
   "source": [
    "from extract_bottleneck_features import *\n",
    "\n",
    "def VGG16_predict_breed(img_path):\n",
    "    # extract bottleneck features\n",
    "    bottleneck_feature = extract_VGG16(path_to_tensor(img_path))\n",
    "    # obtain predicted vector\n",
    "    predicted_vector = VGG16_model.predict(bottleneck_feature)\n",
    "    # return dog breed that is predicted by the model\n",
    "    return dog_names[np.argmax(predicted_vector)]"
   ]
  },
  {
   "cell_type": "markdown",
   "metadata": {},
   "source": [
    "---\n",
    "<a id='step5'></a>\n",
    "## Step 5: Create a CNN to Classify Dog Breeds (using Transfer Learning)\n",
    "\n",
    "You will now use transfer learning to create a CNN that can identify dog breed from images.  Your CNN must attain at least 60% accuracy on the test set.\n",
    "\n",
    "In Step 4, we used transfer learning to create a CNN using VGG-16 bottleneck features.  In this section, you must use the bottleneck features from a different pre-trained model.  To make things easier for you, we have pre-computed the features for all of the networks that are currently available in Keras:\n",
    "- [VGG-19](https://s3-us-west-1.amazonaws.com/udacity-aind/dog-project/DogVGG19Data.npz) bottleneck features\n",
    "- [ResNet-50](https://s3-us-west-1.amazonaws.com/udacity-aind/dog-project/DogResnet50Data.npz) bottleneck features\n",
    "- [Inception](https://s3-us-west-1.amazonaws.com/udacity-aind/dog-project/DogInceptionV3Data.npz) bottleneck features\n",
    "- [Xception](https://s3-us-west-1.amazonaws.com/udacity-aind/dog-project/DogXceptionData.npz) bottleneck features\n",
    "\n",
    "The files are encoded as such:\n",
    "\n",
    "    Dog{network}Data.npz\n",
    "    \n",
    "where `{network}`, in the above filename, can be one of `VGG19`, `Resnet50`, `InceptionV3`, or `Xception`.  Pick one of the above architectures, download the corresponding bottleneck features, and store the downloaded file in the `bottleneck_features/` folder in the repository.\n",
    "\n",
    "### (IMPLEMENTATION) Obtain Bottleneck Features\n",
    "\n",
    "In the code block below, extract the bottleneck features corresponding to the train, test, and validation sets by running the following:\n",
    "\n",
    "    bottleneck_features = np.load('bottleneck_features/Dog{network}Data.npz')\n",
    "    train_{network} = bottleneck_features['train']\n",
    "    valid_{network} = bottleneck_features['valid']\n",
    "    test_{network} = bottleneck_features['test']"
   ]
  },
  {
   "cell_type": "code",
   "execution_count": 15,
   "metadata": {
    "collapsed": true
   },
   "outputs": [],
   "source": [
    "### obtain bottleneck features from VGG19\n",
    "VGG19_bottleneck_features = np.load('bottleneck_features/DogVGG19Data.npz')\n",
    "train_VGG19 = VGG19_bottleneck_features['train']\n",
    "valid_VGG19 = VGG19_bottleneck_features['valid']\n",
    "test_VGG19 = VGG19_bottleneck_features['test']"
   ]
  },
  {
   "cell_type": "code",
   "execution_count": 26,
   "metadata": {
    "collapsed": true
   },
   "outputs": [],
   "source": [
    "### obtain bottleneck features from ResNet-50\n",
    "ResNet50_bottleneck_features = np.load('bottleneck_features/DogResnet50Data.npz')\n",
    "train_ResNet50 = ResNet50_bottleneck_features['train']\n",
    "valid_ResNet50 = ResNet50_bottleneck_features['valid']\n",
    "test_ResNet50 = ResNet50_bottleneck_features['test']"
   ]
  },
  {
   "cell_type": "code",
   "execution_count": 49,
   "metadata": {},
   "outputs": [],
   "source": [
    "### obtain bottleneck features from Inception\n",
    "Incep_bottleneck_features = np.load('bottleneck_features/DogInceptionV3Data.npz')\n",
    "train_Incep = Incep_bottleneck_features['train']\n",
    "valid_Incep = Incep_bottleneck_features['valid']\n",
    "test_Incep = Incep_bottleneck_features['test']"
   ]
  },
  {
   "cell_type": "code",
   "execution_count": 47,
   "metadata": {},
   "outputs": [
    {
     "ename": "FileNotFoundError",
     "evalue": "[Errno 2] No such file or directory: 'bottleneck_features/DogXceptionData.npz'",
     "output_type": "error",
     "traceback": [
      "\u001b[0;31m---------------------------------------------------------------------------\u001b[0m",
      "\u001b[0;31mFileNotFoundError\u001b[0m                         Traceback (most recent call last)",
      "\u001b[0;32m<ipython-input-47-c6e74d7af465>\u001b[0m in \u001b[0;36m<module>\u001b[0;34m()\u001b[0m\n\u001b[1;32m      1\u001b[0m \u001b[0;31m### obtain bottleneck features from ResNet-50\u001b[0m\u001b[0;34m\u001b[0m\u001b[0;34m\u001b[0m\u001b[0m\n\u001b[0;32m----> 2\u001b[0;31m \u001b[0mXc_bottleneck_features\u001b[0m \u001b[0;34m=\u001b[0m \u001b[0mnp\u001b[0m\u001b[0;34m.\u001b[0m\u001b[0mload\u001b[0m\u001b[0;34m(\u001b[0m\u001b[0;34m'bottleneck_features/DogXceptionData.npz'\u001b[0m\u001b[0;34m)\u001b[0m\u001b[0;34m\u001b[0m\u001b[0m\n\u001b[0m\u001b[1;32m      3\u001b[0m \u001b[0mtrain_Xc\u001b[0m \u001b[0;34m=\u001b[0m \u001b[0mXc_bottleneck_features\u001b[0m\u001b[0;34m[\u001b[0m\u001b[0;34m'train'\u001b[0m\u001b[0;34m]\u001b[0m\u001b[0;34m\u001b[0m\u001b[0m\n\u001b[1;32m      4\u001b[0m \u001b[0mvalid_Xc\u001b[0m \u001b[0;34m=\u001b[0m \u001b[0mXc_bottleneck_features\u001b[0m\u001b[0;34m[\u001b[0m\u001b[0;34m'valid'\u001b[0m\u001b[0;34m]\u001b[0m\u001b[0;34m\u001b[0m\u001b[0m\n\u001b[1;32m      5\u001b[0m \u001b[0mtest_Xc\u001b[0m \u001b[0;34m=\u001b[0m \u001b[0mXc_bottleneck_features\u001b[0m\u001b[0;34m[\u001b[0m\u001b[0;34m'test'\u001b[0m\u001b[0;34m]\u001b[0m\u001b[0;34m\u001b[0m\u001b[0m\n",
      "\u001b[0;32m/home/aind2/anaconda3/envs/aind2/lib/python3.6/site-packages/numpy/lib/npyio.py\u001b[0m in \u001b[0;36mload\u001b[0;34m(file, mmap_mode, allow_pickle, fix_imports, encoding)\u001b[0m\n\u001b[1;32m    368\u001b[0m     \u001b[0mown_fid\u001b[0m \u001b[0;34m=\u001b[0m \u001b[0;32mFalse\u001b[0m\u001b[0;34m\u001b[0m\u001b[0m\n\u001b[1;32m    369\u001b[0m     \u001b[0;32mif\u001b[0m \u001b[0misinstance\u001b[0m\u001b[0;34m(\u001b[0m\u001b[0mfile\u001b[0m\u001b[0;34m,\u001b[0m \u001b[0mbasestring\u001b[0m\u001b[0;34m)\u001b[0m\u001b[0;34m:\u001b[0m\u001b[0;34m\u001b[0m\u001b[0m\n\u001b[0;32m--> 370\u001b[0;31m         \u001b[0mfid\u001b[0m \u001b[0;34m=\u001b[0m \u001b[0mopen\u001b[0m\u001b[0;34m(\u001b[0m\u001b[0mfile\u001b[0m\u001b[0;34m,\u001b[0m \u001b[0;34m\"rb\"\u001b[0m\u001b[0;34m)\u001b[0m\u001b[0;34m\u001b[0m\u001b[0m\n\u001b[0m\u001b[1;32m    371\u001b[0m         \u001b[0mown_fid\u001b[0m \u001b[0;34m=\u001b[0m \u001b[0;32mTrue\u001b[0m\u001b[0;34m\u001b[0m\u001b[0m\n\u001b[1;32m    372\u001b[0m     \u001b[0;32melif\u001b[0m \u001b[0mis_pathlib_path\u001b[0m\u001b[0;34m(\u001b[0m\u001b[0mfile\u001b[0m\u001b[0;34m)\u001b[0m\u001b[0;34m:\u001b[0m\u001b[0;34m\u001b[0m\u001b[0m\n",
      "\u001b[0;31mFileNotFoundError\u001b[0m: [Errno 2] No such file or directory: 'bottleneck_features/DogXceptionData.npz'"
     ]
    }
   ],
   "source": [
    "### obtain bottleneck features from ResNet-50\n",
    "Xc_bottleneck_features = np.load('bottleneck_features/DogXceptionData.npz')\n",
    "train_Xc = Xc_bottleneck_features['train']\n",
    "valid_Xc = Xc_bottleneck_features['valid']\n",
    "test_Xc = Xc_bottleneck_features['test']"
   ]
  },
  {
   "cell_type": "markdown",
   "metadata": {},
   "source": [
    "### (IMPLEMENTATION) Model Architecture\n",
    "\n",
    "Create a CNN to classify dog breed.  At the end of your code cell block, summarize the layers of your model by executing the line:\n",
    "    \n",
    "        <your model's name>.summary()\n",
    "   \n",
    "__Question 5:__ Outline the steps you took to get to your final CNN architecture and your reasoning at each step.  Describe why you think the architecture is suitable for the current problem.\n",
    "\n",
    "__Answer:__ \n",
    "\n"
   ]
  },
  {
   "cell_type": "code",
   "execution_count": 17,
   "metadata": {},
   "outputs": [
    {
     "name": "stdout",
     "output_type": "stream",
     "text": [
      "_________________________________________________________________\n",
      "Layer (type)                 Output Shape              Param #   \n",
      "=================================================================\n",
      "global_average_pooling2d_1 ( (None, 512)               0         \n",
      "_________________________________________________________________\n",
      "dense_1 (Dense)              (None, 133)               68229     \n",
      "=================================================================\n",
      "Total params: 68,229\n",
      "Trainable params: 68,229\n",
      "Non-trainable params: 0\n",
      "_________________________________________________________________\n"
     ]
    }
   ],
   "source": [
    "from keras.layers import Conv2D, MaxPooling2D, GlobalAveragePooling2D\n",
    "from keras.layers import Dropout, Flatten, Dense\n",
    "from keras.layers.normalization import BatchNormalization\n",
    "from keras.models import Sequential\n",
    "from keras import regularizers\n",
    "\n",
    "### Define model architecture. (for VGG19; #0)\n",
    "\n",
    "model_fromVGG19 = Sequential()\n",
    "\n",
    "model_fromVGG19.add(GlobalAveragePooling2D(input_shape=train_VGG19.shape[1:]))\n",
    "model_fromVGG19.add(Dense(133, activation='softmax'))\n",
    "\n",
    "model_fromVGG19.summary()"
   ]
  },
  {
   "cell_type": "code",
   "execution_count": 54,
   "metadata": {
    "collapsed": true
   },
   "outputs": [],
   "source": [
    "### Define model architecture. (for VGG19; #1)\n",
    "\n",
    "model_fromVGG19 = Sequential()\n",
    "\n",
    "model_fromVGG19.add(Flatten(input_shape=train_VGG19.shape[1:]))\n",
    "\n",
    "model_fromVGG19.add(Dense(2048, activation='relu'))\n",
    "model_fromVGG19.add(BatchNormalization())\n",
    "model_fromVGG19.add(Dense(1024, activation='relu'))\n",
    "model_fromVGG19.add(BatchNormalization())\n",
    "model_fromVGG19.add(Dense(512, activation='relu'))\n",
    "model_fromVGG19.add(BatchNormalization())\n",
    "model_fromVGG19.add(Dense(133, activation='softmax'))\n",
    "\n",
    "#model_fromVGG19.summary()"
   ]
  },
  {
   "cell_type": "code",
   "execution_count": 72,
   "metadata": {},
   "outputs": [
    {
     "name": "stdout",
     "output_type": "stream",
     "text": [
      "_________________________________________________________________\n",
      "Layer (type)                 Output Shape              Param #   \n",
      "=================================================================\n",
      "flatten_11 (Flatten)         (None, 25088)             0         \n",
      "_________________________________________________________________\n",
      "dense_33 (Dense)             (None, 2048)              51382272  \n",
      "_________________________________________________________________\n",
      "batch_normalization_46 (Batc (None, 2048)              8192      \n",
      "_________________________________________________________________\n",
      "dropout_21 (Dropout)         (None, 2048)              0         \n",
      "_________________________________________________________________\n",
      "dense_34 (Dense)             (None, 1024)              2098176   \n",
      "_________________________________________________________________\n",
      "batch_normalization_47 (Batc (None, 1024)              4096      \n",
      "_________________________________________________________________\n",
      "dropout_22 (Dropout)         (None, 1024)              0         \n",
      "_________________________________________________________________\n",
      "dense_35 (Dense)             (None, 512)               524800    \n",
      "_________________________________________________________________\n",
      "batch_normalization_48 (Batc (None, 512)               2048      \n",
      "_________________________________________________________________\n",
      "dropout_23 (Dropout)         (None, 512)               0         \n",
      "_________________________________________________________________\n",
      "dense_36 (Dense)             (None, 133)               68229     \n",
      "=================================================================\n",
      "Total params: 54,087,813\n",
      "Trainable params: 54,080,645\n",
      "Non-trainable params: 7,168\n",
      "_________________________________________________________________\n"
     ]
    }
   ],
   "source": [
    "### Define model architecture. (for VGG19; #2, #3, #4, #5)\n",
    "\n",
    "model_fromVGG19 = Sequential()\n",
    "\n",
    "model_fromVGG19.add(Flatten(input_shape=train_VGG19.shape[1:]))\n",
    "scale = 1e-4\n",
    "model_fromVGG19.add(Dense(2048, activation='relu', kernel_regularizer=regularizers.l2(scale)))\n",
    "model_fromVGG19.add(BatchNormalization())\n",
    "model_fromVGG19.add(Dropout(0.5))\n",
    "model_fromVGG19.add(Dense(1024, activation='relu', kernel_regularizer=regularizers.l2(scale)))\n",
    "model_fromVGG19.add(BatchNormalization())\n",
    "model_fromVGG19.add(Dropout(0.5))\n",
    "model_fromVGG19.add(Dense(512, activation='relu', kernel_regularizer=regularizers.l2(scale)))\n",
    "model_fromVGG19.add(BatchNormalization())\n",
    "model_fromVGG19.add(Dropout(0.5))\n",
    "model_fromVGG19.add(Dense(133, activation='softmax'))\n",
    "\n",
    "model_fromVGG19.summary()"
   ]
  },
  {
   "cell_type": "code",
   "execution_count": 32,
   "metadata": {},
   "outputs": [
    {
     "name": "stdout",
     "output_type": "stream",
     "text": [
      "_________________________________________________________________\n",
      "Layer (type)                 Output Shape              Param #   \n",
      "=================================================================\n",
      "flatten_5 (Flatten)          (None, 25088)             0         \n",
      "_________________________________________________________________\n",
      "dense_15 (Dense)             (None, 2048)              51382272  \n",
      "_________________________________________________________________\n",
      "batch_normalization_11 (Batc (None, 2048)              8192      \n",
      "_________________________________________________________________\n",
      "dropout_11 (Dropout)         (None, 2048)              0         \n",
      "_________________________________________________________________\n",
      "dense_16 (Dense)             (None, 1024)              2098176   \n",
      "_________________________________________________________________\n",
      "batch_normalization_12 (Batc (None, 1024)              4096      \n",
      "_________________________________________________________________\n",
      "dropout_12 (Dropout)         (None, 1024)              0         \n",
      "_________________________________________________________________\n",
      "dense_17 (Dense)             (None, 512)               524800    \n",
      "_________________________________________________________________\n",
      "batch_normalization_13 (Batc (None, 512)               2048      \n",
      "_________________________________________________________________\n",
      "dropout_13 (Dropout)         (None, 512)               0         \n",
      "_________________________________________________________________\n",
      "dense_18 (Dense)             (None, 133)               68229     \n",
      "=================================================================\n",
      "Total params: 54,087,813\n",
      "Trainable params: 54,080,645\n",
      "Non-trainable params: 7,168\n",
      "_________________________________________________________________\n"
     ]
    }
   ],
   "source": [
    "### Define model architecture. (for VGG19; #6, #7)\n",
    "\n",
    "model_fromVGG19 = Sequential()\n",
    "\n",
    "model_fromVGG19.add(Flatten(input_shape=train_VGG19.shape[1:]))\n",
    "model_fromVGG19.add(Dense(2048, activation='relu'))\n",
    "model_fromVGG19.add(BatchNormalization())\n",
    "model_fromVGG19.add(Dropout(0.5))\n",
    "model_fromVGG19.add(Dense(1024, activation='relu'))\n",
    "model_fromVGG19.add(BatchNormalization())\n",
    "model_fromVGG19.add(Dropout(0.5))\n",
    "model_fromVGG19.add(Dense(512, activation='relu'))\n",
    "model_fromVGG19.add(BatchNormalization())\n",
    "model_fromVGG19.add(Dropout(0.8))\n",
    "model_fromVGG19.add(Dense(133, activation='softmax'))\n",
    "\n",
    "model_fromVGG19.summary()"
   ]
  },
  {
   "cell_type": "code",
   "execution_count": 36,
   "metadata": {},
   "outputs": [
    {
     "name": "stdout",
     "output_type": "stream",
     "text": [
      "_________________________________________________________________\n",
      "Layer (type)                 Output Shape              Param #   \n",
      "=================================================================\n",
      "flatten_6 (Flatten)          (None, 25088)             0         \n",
      "_________________________________________________________________\n",
      "dense_19 (Dense)             (None, 4096)              102764544 \n",
      "_________________________________________________________________\n",
      "batch_normalization_14 (Batc (None, 4096)              16384     \n",
      "_________________________________________________________________\n",
      "dropout_14 (Dropout)         (None, 4096)              0         \n",
      "_________________________________________________________________\n",
      "dense_20 (Dense)             (None, 2048)              8390656   \n",
      "_________________________________________________________________\n",
      "batch_normalization_15 (Batc (None, 2048)              8192      \n",
      "_________________________________________________________________\n",
      "dropout_15 (Dropout)         (None, 2048)              0         \n",
      "_________________________________________________________________\n",
      "dense_21 (Dense)             (None, 1024)              2098176   \n",
      "_________________________________________________________________\n",
      "batch_normalization_16 (Batc (None, 1024)              4096      \n",
      "_________________________________________________________________\n",
      "dropout_16 (Dropout)         (None, 1024)              0         \n",
      "_________________________________________________________________\n",
      "dense_22 (Dense)             (None, 512)               524800    \n",
      "_________________________________________________________________\n",
      "batch_normalization_17 (Batc (None, 512)               2048      \n",
      "_________________________________________________________________\n",
      "dropout_17 (Dropout)         (None, 512)               0         \n",
      "_________________________________________________________________\n",
      "dense_23 (Dense)             (None, 133)               68229     \n",
      "=================================================================\n",
      "Total params: 113,877,125\n",
      "Trainable params: 113,861,765\n",
      "Non-trainable params: 15,360\n",
      "_________________________________________________________________\n"
     ]
    }
   ],
   "source": [
    "### Define model architecture. (for VGG19; #8)\n",
    "\n",
    "model_fromVGG19 = Sequential()\n",
    "\n",
    "model_fromVGG19.add(Flatten(input_shape=train_VGG19.shape[1:]))\n",
    "model_fromVGG19.add(Dense(4096, activation='relu'))\n",
    "model_fromVGG19.add(BatchNormalization())\n",
    "model_fromVGG19.add(Dropout(0.7))\n",
    "model_fromVGG19.add(Dense(2048, activation='relu'))\n",
    "model_fromVGG19.add(BatchNormalization())\n",
    "model_fromVGG19.add(Dropout(0.7))\n",
    "model_fromVGG19.add(Dense(1024, activation='relu'))\n",
    "model_fromVGG19.add(BatchNormalization())\n",
    "model_fromVGG19.add(Dropout(0.7))\n",
    "model_fromVGG19.add(Dense(512, activation='relu'))\n",
    "model_fromVGG19.add(BatchNormalization())\n",
    "model_fromVGG19.add(Dropout(0.7))\n",
    "model_fromVGG19.add(Dense(133, activation='softmax'))\n",
    "\n",
    "model_fromVGG19.summary()"
   ]
  },
  {
   "cell_type": "code",
   "execution_count": 96,
   "metadata": {},
   "outputs": [
    {
     "name": "stdout",
     "output_type": "stream",
     "text": [
      "_________________________________________________________________\n",
      "Layer (type)                 Output Shape              Param #   \n",
      "=================================================================\n",
      "global_average_pooling2d_9 ( (None, 2048)              0         \n",
      "_________________________________________________________________\n",
      "dropout_26 (Dropout)         (None, 2048)              0         \n",
      "_________________________________________________________________\n",
      "dense_41 (Dense)             (None, 133)               272517    \n",
      "=================================================================\n",
      "Total params: 272,517\n",
      "Trainable params: 272,517\n",
      "Non-trainable params: 0\n",
      "_________________________________________________________________\n"
     ]
    }
   ],
   "source": [
    "### Define model architecture. (for ResNet-50, #1)\n",
    "\n",
    "model_fromResNet50 = Sequential()\n",
    "\n",
    "model_fromResNet50.add(GlobalAveragePooling2D(input_shape=train_ResNet50.shape[1:]))\n",
    "model_fromResNet50.add(Dropout(0.5))\n",
    "model_fromResNet50.add(Dense(133, activation='softmax'))\n",
    "\n",
    "model_fromResNet50.summary()"
   ]
  },
  {
   "cell_type": "code",
   "execution_count": 82,
   "metadata": {},
   "outputs": [
    {
     "name": "stdout",
     "output_type": "stream",
     "text": [
      "_________________________________________________________________\n",
      "Layer (type)                 Output Shape              Param #   \n",
      "=================================================================\n",
      "global_average_pooling2d_2 ( (None, 2048)              0         \n",
      "_________________________________________________________________\n",
      "dropout_49 (Dropout)         (None, 2048)              0         \n",
      "_________________________________________________________________\n",
      "dense_60 (Dense)             (None, 1024)              2098176   \n",
      "_________________________________________________________________\n",
      "dropout_50 (Dropout)         (None, 1024)              0         \n",
      "_________________________________________________________________\n",
      "dense_61 (Dense)             (None, 133)               136325    \n",
      "=================================================================\n",
      "Total params: 2,234,501\n",
      "Trainable params: 2,234,501\n",
      "Non-trainable params: 0\n",
      "_________________________________________________________________\n"
     ]
    }
   ],
   "source": [
    "### Define model architecture. (for ResNet-50, #2)\n",
    "\n",
    "model_fromResNet50 = Sequential()\n",
    "\n",
    "model_fromResNet50.add(GlobalAveragePooling2D(input_shape=train_ResNet50.shape[1:]))\n",
    "model_fromResNet50.add(Dropout(0.8))\n",
    "model_fromResNet50.add(Dense(1024, activation='relu'))\n",
    "model_fromResNet50.add(Dropout(0.8))\n",
    "model_fromResNet50.add(Dense(133, activation='softmax'))\n",
    "\n",
    "model_fromResNet50.summary()"
   ]
  },
  {
   "cell_type": "code",
   "execution_count": 62,
   "metadata": {},
   "outputs": [
    {
     "name": "stdout",
     "output_type": "stream",
     "text": [
      "_________________________________________________________________\n",
      "Layer (type)                 Output Shape              Param #   \n",
      "=================================================================\n",
      "flatten_13 (Flatten)         (None, 2048)              0         \n",
      "_________________________________________________________________\n",
      "dense_44 (Dense)             (None, 1024)              2098176   \n",
      "_________________________________________________________________\n",
      "batch_normalization_30 (Batc (None, 1024)              4096      \n",
      "_________________________________________________________________\n",
      "dropout_37 (Dropout)         (None, 1024)              0         \n",
      "_________________________________________________________________\n",
      "dense_45 (Dense)             (None, 512)               524800    \n",
      "_________________________________________________________________\n",
      "batch_normalization_31 (Batc (None, 512)               2048      \n",
      "_________________________________________________________________\n",
      "dropout_38 (Dropout)         (None, 512)               0         \n",
      "_________________________________________________________________\n",
      "dense_46 (Dense)             (None, 256)               131328    \n",
      "_________________________________________________________________\n",
      "batch_normalization_32 (Batc (None, 256)               1024      \n",
      "_________________________________________________________________\n",
      "dropout_39 (Dropout)         (None, 256)               0         \n",
      "_________________________________________________________________\n",
      "dense_47 (Dense)             (None, 133)               34181     \n",
      "=================================================================\n",
      "Total params: 2,795,653\n",
      "Trainable params: 2,792,069\n",
      "Non-trainable params: 3,584\n",
      "_________________________________________________________________\n"
     ]
    }
   ],
   "source": [
    "### Define model architecture. (for ResNet-50; #3, #4, #5, #6)\n",
    "\n",
    "model_fromResNet50 = Sequential()\n",
    "\n",
    "#model_fromResNet50.add(GlobalAveragePooling2D(input_shape=train_ResNet50.shape[1:]))\n",
    "model_fromResNet50.add(Flatten(input_shape=train_ResNet50.shape[1:]))\n",
    "#model_fromResNet50.add(Dropout(0.5))\n",
    "model_fromResNet50.add(Dense(1024, activation='relu'))\n",
    "model_fromResNet50.add(BatchNormalization())\n",
    "model_fromResNet50.add(Dropout(0.5))\n",
    "model_fromResNet50.add(Dense(512, activation='relu'))\n",
    "model_fromResNet50.add(BatchNormalization())\n",
    "model_fromResNet50.add(Dropout(0.8))\n",
    "model_fromResNet50.add(Dense(256, activation='relu'))\n",
    "model_fromResNet50.add(BatchNormalization())\n",
    "model_fromResNet50.add(Dropout(0.8))\n",
    "model_fromResNet50.add(Dense(133, activation='softmax'))\n",
    "\n",
    "model_fromResNet50.summary()"
   ]
  },
  {
   "cell_type": "code",
   "execution_count": 41,
   "metadata": {},
   "outputs": [
    {
     "name": "stdout",
     "output_type": "stream",
     "text": [
      "_________________________________________________________________\n",
      "Layer (type)                 Output Shape              Param #   \n",
      "=================================================================\n",
      "global_average_pooling2d_6 ( (None, 2048)              0         \n",
      "_________________________________________________________________\n",
      "dropout_14 (Dropout)         (None, 2048)              0         \n",
      "_________________________________________________________________\n",
      "dense_13 (Dense)             (None, 512)               1049088   \n",
      "_________________________________________________________________\n",
      "batch_normalization_19 (Batc (None, 512)               2048      \n",
      "_________________________________________________________________\n",
      "dropout_15 (Dropout)         (None, 512)               0         \n",
      "_________________________________________________________________\n",
      "dense_14 (Dense)             (None, 256)               131328    \n",
      "_________________________________________________________________\n",
      "batch_normalization_20 (Batc (None, 256)               1024      \n",
      "_________________________________________________________________\n",
      "dropout_16 (Dropout)         (None, 256)               0         \n",
      "_________________________________________________________________\n",
      "dense_15 (Dense)             (None, 128)               32896     \n",
      "_________________________________________________________________\n",
      "batch_normalization_21 (Batc (None, 128)               512       \n",
      "_________________________________________________________________\n",
      "dropout_17 (Dropout)         (None, 128)               0         \n",
      "_________________________________________________________________\n",
      "dense_16 (Dense)             (None, 64)                8256      \n",
      "_________________________________________________________________\n",
      "batch_normalization_22 (Batc (None, 64)                256       \n",
      "_________________________________________________________________\n",
      "dropout_18 (Dropout)         (None, 64)                0         \n",
      "_________________________________________________________________\n",
      "dense_17 (Dense)             (None, 133)               8645      \n",
      "=================================================================\n",
      "Total params: 1,234,053\n",
      "Trainable params: 1,232,133\n",
      "Non-trainable params: 1,920\n",
      "_________________________________________________________________\n"
     ]
    }
   ],
   "source": [
    "from keras import regularizers\n",
    "### Define model architecture. (for ResNet-50; #7, ...)\n",
    "scale = 0.\n",
    "model_fromResNet50 = Sequential()\n",
    "\n",
    "model_fromResNet50.add(GlobalAveragePooling2D(input_shape=train_ResNet50.shape[1:]))\n",
    "model_fromResNet50.add(Dropout(0.5))\n",
    "model_fromResNet50.add(Dense(512, activation='relu', kernel_regularizer=regularizers.l2(scale)))\n",
    "model_fromResNet50.add(BatchNormalization())\n",
    "model_fromResNet50.add(Dropout(0.5))\n",
    "model_fromResNet50.add(Dense(256, activation='relu', kernel_regularizer=regularizers.l2(scale)))\n",
    "model_fromResNet50.add(BatchNormalization())\n",
    "model_fromResNet50.add(Dropout(0.5))\n",
    "model_fromResNet50.add(Dense(128, activation='relu', kernel_regularizer=regularizers.l2(scale)))\n",
    "model_fromResNet50.add(BatchNormalization())\n",
    "model_fromResNet50.add(Dropout(0.5))\n",
    "model_fromResNet50.add(Dense(64, activation='relu', kernel_regularizer=regularizers.l2(scale)))\n",
    "model_fromResNet50.add(BatchNormalization())\n",
    "model_fromResNet50.add(Dropout(0.5))\n",
    "model_fromResNet50.add(Dense(133, activation='softmax'))\n",
    "\n",
    "model_fromResNet50.summary()"
   ]
  },
  {
   "cell_type": "code",
   "execution_count": 103,
   "metadata": {},
   "outputs": [
    {
     "name": "stdout",
     "output_type": "stream",
     "text": [
      "_________________________________________________________________\n",
      "Layer (type)                 Output Shape              Param #   \n",
      "=================================================================\n",
      "global_average_pooling2d_18  (None, 2048)              0         \n",
      "_________________________________________________________________\n",
      "dropout_33 (Dropout)         (None, 2048)              0         \n",
      "_________________________________________________________________\n",
      "dense_33 (Dense)             (None, 133)               272517    \n",
      "=================================================================\n",
      "Total params: 272,517\n",
      "Trainable params: 272,517\n",
      "Non-trainable params: 0\n",
      "_________________________________________________________________\n"
     ]
    }
   ],
   "source": [
    "from keras.layers import Conv2D, MaxPooling2D, GlobalAveragePooling2D\n",
    "from keras.layers import Dropout, Flatten, Dense\n",
    "from keras.layers.normalization import BatchNormalization\n",
    "from keras.models import Sequential\n",
    "from keras import regularizers\n",
    "\n",
    "### Define model architecture. (for InceptionV3, #0)\n",
    "\n",
    "model_fromIncep = Sequential()\n",
    "\n",
    "model_fromIncep.add(GlobalAveragePooling2D(input_shape=train_Incep.shape[1:]))\n",
    "model_fromIncep.add(Dropout(0.7))\n",
    "model_fromIncep.add(Dense(133, activation='softmax'))\n",
    "\n",
    "model_fromIncep.summary()"
   ]
  },
  {
   "cell_type": "markdown",
   "metadata": {},
   "source": [
    "### (IMPLEMENTATION) Compile the Model"
   ]
  },
  {
   "cell_type": "code",
   "execution_count": 28,
   "metadata": {
    "collapsed": true
   },
   "outputs": [],
   "source": [
    "### Compile the model (VGG19).\n",
    "model_fromVGG19.compile(loss='categorical_crossentropy', optimizer='adam', metrics=['accuracy'])"
   ]
  },
  {
   "cell_type": "code",
   "execution_count": 42,
   "metadata": {
    "collapsed": true
   },
   "outputs": [],
   "source": [
    "### Compile the model (ResNet50).\n",
    "from keras import optimizers\n",
    "opt = optimizers.Adam(lr=1e-3, beta_1=0.9, beta_2=0.999, epsilon=1e-08, decay=0.0)\n",
    "model_fromResNet50.compile(loss='categorical_crossentropy', optimizer=opt, metrics=['accuracy'])"
   ]
  },
  {
   "cell_type": "code",
   "execution_count": 105,
   "metadata": {
    "collapsed": true
   },
   "outputs": [],
   "source": [
    "### Compile the model (Incep).\n",
    "from keras import optimizers\n",
    "opt = optimizers.Adam(lr=1e-5, beta_1=0.9, beta_2=0.999, epsilon=1e-08, decay=0.0)\n",
    "model_fromIncep.compile(loss='categorical_crossentropy', optimizer=opt, metrics=['accuracy'])"
   ]
  },
  {
   "cell_type": "markdown",
   "metadata": {},
   "source": [
    "### (IMPLEMENTATION) Train the Model\n",
    "\n",
    "Train your model in the code cell below.  Use model checkpointing to save the model that attains the best validation loss.  \n",
    "\n",
    "You are welcome to [augment the training data](https://blog.keras.io/building-powerful-image-classification-models-using-very-little-data.html), but this is not a requirement. "
   ]
  },
  {
   "cell_type": "code",
   "execution_count": 29,
   "metadata": {},
   "outputs": [
    {
     "name": "stdout",
     "output_type": "stream",
     "text": [
      "Train on 6680 samples, validate on 835 samples\n",
      "Epoch 1/20\n",
      "6660/6680 [============================>.] - ETA: 0s - loss: 5.7368 - acc: 0.0411Epoch 00000: val_loss improved from inf to 2.76958, saving model to saved_models/weights.best.VGG19_#8.hdf5\n",
      "6680/6680 [==============================] - 53s - loss: 5.7349 - acc: 0.0412 - val_loss: 2.7696 - val_acc: 0.2635\n",
      "Epoch 2/20\n",
      "6660/6680 [============================>.] - ETA: 0s - loss: 3.7934 - acc: 0.1401Epoch 00001: val_loss improved from 2.76958 to 1.84050, saving model to saved_models/weights.best.VGG19_#8.hdf5\n",
      "6680/6680 [==============================] - 64s - loss: 3.7923 - acc: 0.1401 - val_loss: 1.8405 - val_acc: 0.4790\n",
      "Epoch 3/20\n",
      "6660/6680 [============================>.] - ETA: 0s - loss: 2.8516 - acc: 0.2577Epoch 00002: val_loss improved from 1.84050 to 1.45890, saving model to saved_models/weights.best.VGG19_#8.hdf5\n",
      "6680/6680 [==============================] - 64s - loss: 2.8533 - acc: 0.2578 - val_loss: 1.4589 - val_acc: 0.5545\n",
      "Epoch 4/20\n",
      "6660/6680 [============================>.] - ETA: 0s - loss: 2.3337 - acc: 0.3474Epoch 00003: val_loss improved from 1.45890 to 1.26571, saving model to saved_models/weights.best.VGG19_#8.hdf5\n",
      "6680/6680 [==============================] - 64s - loss: 2.3323 - acc: 0.3479 - val_loss: 1.2657 - val_acc: 0.6251\n",
      "Epoch 5/20\n",
      "6660/6680 [============================>.] - ETA: 0s - loss: 1.9633 - acc: 0.4260Epoch 00004: val_loss improved from 1.26571 to 1.14548, saving model to saved_models/weights.best.VGG19_#8.hdf5\n",
      "6680/6680 [==============================] - 64s - loss: 1.9636 - acc: 0.4260 - val_loss: 1.1455 - val_acc: 0.6120\n",
      "Epoch 6/20\n",
      "6660/6680 [============================>.] - ETA: 0s - loss: 1.7174 - acc: 0.4844Epoch 00005: val_loss improved from 1.14548 to 1.11102, saving model to saved_models/weights.best.VGG19_#8.hdf5\n",
      "6680/6680 [==============================] - 64s - loss: 1.7157 - acc: 0.4847 - val_loss: 1.1110 - val_acc: 0.6515\n",
      "Epoch 7/20\n",
      "6660/6680 [============================>.] - ETA: 0s - loss: 1.5545 - acc: 0.5239Epoch 00006: val_loss improved from 1.11102 to 1.04166, saving model to saved_models/weights.best.VGG19_#8.hdf5\n",
      "6680/6680 [==============================] - 64s - loss: 1.5559 - acc: 0.5238 - val_loss: 1.0417 - val_acc: 0.6766\n",
      "Epoch 8/20\n",
      "6660/6680 [============================>.] - ETA: 0s - loss: 1.4211 - acc: 0.5656Epoch 00007: val_loss improved from 1.04166 to 0.97496, saving model to saved_models/weights.best.VGG19_#8.hdf5\n",
      "6680/6680 [==============================] - 64s - loss: 1.4229 - acc: 0.5651 - val_loss: 0.9750 - val_acc: 0.6946\n",
      "Epoch 9/20\n",
      "6660/6680 [============================>.] - ETA: 0s - loss: 1.2705 - acc: 0.6005Epoch 00008: val_loss improved from 0.97496 to 0.96609, saving model to saved_models/weights.best.VGG19_#8.hdf5\n",
      "6680/6680 [==============================] - 64s - loss: 1.2706 - acc: 0.6003 - val_loss: 0.9661 - val_acc: 0.6994\n",
      "Epoch 10/20\n",
      "6660/6680 [============================>.] - ETA: 0s - loss: 1.1660 - acc: 0.6356Epoch 00009: val_loss improved from 0.96609 to 0.96572, saving model to saved_models/weights.best.VGG19_#8.hdf5\n",
      "6680/6680 [==============================] - 64s - loss: 1.1655 - acc: 0.6358 - val_loss: 0.9657 - val_acc: 0.7054\n",
      "Epoch 11/20\n",
      "6660/6680 [============================>.] - ETA: 0s - loss: 1.0527 - acc: 0.6638Epoch 00010: val_loss did not improve\n",
      "6680/6680 [==============================] - 49s - loss: 1.0524 - acc: 0.6639 - val_loss: 0.9680 - val_acc: 0.6982\n",
      "Epoch 12/20\n",
      "6660/6680 [============================>.] - ETA: 0s - loss: 1.0585 - acc: 0.6685Epoch 00011: val_loss did not improve\n",
      "6680/6680 [==============================] - 49s - loss: 1.0580 - acc: 0.6684 - val_loss: 1.0033 - val_acc: 0.6886\n",
      "Epoch 13/20\n",
      "6660/6680 [============================>.] - ETA: 0s - loss: 0.9452 - acc: 0.6959Epoch 00012: val_loss did not improve\n",
      "6680/6680 [==============================] - 49s - loss: 0.9466 - acc: 0.6952 - val_loss: 0.9662 - val_acc: 0.7042\n",
      "Epoch 14/20\n",
      "6660/6680 [============================>.] - ETA: 0s - loss: 0.8911 - acc: 0.7185Epoch 00013: val_loss did not improve\n",
      "6680/6680 [==============================] - 49s - loss: 0.8898 - acc: 0.7187 - val_loss: 1.0166 - val_acc: 0.7066\n",
      "Epoch 15/20\n",
      "6660/6680 [============================>.] - ETA: 0s - loss: 0.8460 - acc: 0.7348Epoch 00014: val_loss improved from 0.96572 to 0.92700, saving model to saved_models/weights.best.VGG19_#8.hdf5\n",
      "6680/6680 [==============================] - 64s - loss: 0.8466 - acc: 0.7349 - val_loss: 0.9270 - val_acc: 0.7150\n",
      "Epoch 16/20\n",
      "6660/6680 [============================>.] - ETA: 0s - loss: 0.8124 - acc: 0.7396Epoch 00015: val_loss did not improve\n",
      "6680/6680 [==============================] - 49s - loss: 0.8124 - acc: 0.7394 - val_loss: 0.9600 - val_acc: 0.7186\n",
      "Epoch 17/20\n",
      "6660/6680 [============================>.] - ETA: 0s - loss: 0.7754 - acc: 0.7529Epoch 00016: val_loss did not improve\n",
      "6680/6680 [==============================] - 49s - loss: 0.7771 - acc: 0.7525 - val_loss: 0.9919 - val_acc: 0.6994\n",
      "Epoch 18/20\n",
      "6660/6680 [============================>.] - ETA: 0s - loss: 0.7370 - acc: 0.7650Epoch 00017: val_loss did not improve\n",
      "6680/6680 [==============================] - 49s - loss: 0.7376 - acc: 0.7650 - val_loss: 1.0208 - val_acc: 0.7042\n",
      "Epoch 19/20\n",
      "6660/6680 [============================>.] - ETA: 0s - loss: 0.7069 - acc: 0.7769Epoch 00018: val_loss did not improve\n",
      "6680/6680 [==============================] - 49s - loss: 0.7074 - acc: 0.7766 - val_loss: 1.0183 - val_acc: 0.7090\n",
      "Epoch 20/20\n",
      "6660/6680 [============================>.] - ETA: 0s - loss: 0.6697 - acc: 0.7878Epoch 00019: val_loss did not improve\n",
      "6680/6680 [==============================] - 49s - loss: 0.6694 - acc: 0.7879 - val_loss: 0.9991 - val_acc: 0.7126\n"
     ]
    }
   ],
   "source": [
    "from keras.callbacks import ModelCheckpoint \n",
    "### Train the model. (Model from VGG19)\n",
    "\n",
    "# create model checkpointer\n",
    "modelCheckpointer_VGG19 = ModelCheckpoint(filepath='saved_models/weights.best.VGG19_#8.hdf5', \n",
    "                               verbose=1, save_best_only=True)\n",
    "\n",
    "# fit the model\n",
    "history = model_fromVGG19.fit(train_VGG19, train_targets, validation_data=(valid_VGG19, valid_targets),\n",
    "                   epochs=20, batch_size=20, callbacks=[modelCheckpointer_VGG19], verbose=1)"
   ]
  },
  {
   "cell_type": "code",
   "execution_count": 30,
   "metadata": {},
   "outputs": [
    {
     "data": {
      "image/png": "[encoded data removed]",
      "text/plain": [
       "<matplotlib.figure.Figure at 0x7f25b8e800f0>"
      ]
     },
     "metadata": {},
     "output_type": "display_data"
    }
   ],
   "source": [
    "# plot training loss and validation loss\n",
    "plt.plot(history.history['loss'], color='b')\n",
    "plt.plot(history.history['val_loss'], color='r')\n",
    "plt.show()"
   ]
  },
  {
   "cell_type": "code",
   "execution_count": 43,
   "metadata": {},
   "outputs": [
    {
     "name": "stdout",
     "output_type": "stream",
     "text": [
      "Train on 6680 samples, validate on 835 samples\n",
      "Epoch 1/30\n",
      "6600/6680 [============================>.] - ETA: 0s - loss: 5.0437 - acc: 0.0200Epoch 00000: val_loss improved from inf to 4.09522, saving model to saved_models/weights.best.ResNet50_#4.hdf5\n",
      "6680/6680 [==============================] - 5s - loss: 5.0399 - acc: 0.0199 - val_loss: 4.0952 - val_acc: 0.1844\n",
      "Epoch 2/30\n",
      "6600/6680 [============================>.] - ETA: 0s - loss: 4.2370 - acc: 0.0752Epoch 00001: val_loss improved from 4.09522 to 3.05846, saving model to saved_models/weights.best.ResNet50_#4.hdf5\n",
      "6680/6680 [==============================] - 4s - loss: 4.2329 - acc: 0.0756 - val_loss: 3.0585 - val_acc: 0.3401\n",
      "Epoch 3/30\n",
      "6620/6680 [============================>.] - ETA: 0s - loss: 3.5721 - acc: 0.1435Epoch 00002: val_loss improved from 3.05846 to 2.37011, saving model to saved_models/weights.best.ResNet50_#4.hdf5\n",
      "6680/6680 [==============================] - 4s - loss: 3.5694 - acc: 0.1434 - val_loss: 2.3701 - val_acc: 0.4491\n",
      "Epoch 4/30\n",
      "6620/6680 [============================>.] - ETA: 0s - loss: 3.0739 - acc: 0.2062Epoch 00003: val_loss improved from 2.37011 to 1.93182, saving model to saved_models/weights.best.ResNet50_#4.hdf5\n",
      "6680/6680 [==============================] - 4s - loss: 3.0729 - acc: 0.2063 - val_loss: 1.9318 - val_acc: 0.5545\n",
      "Epoch 5/30\n",
      "6660/6680 [============================>.] - ETA: 0s - loss: 2.7592 - acc: 0.2547Epoch 00004: val_loss improved from 1.93182 to 1.63640, saving model to saved_models/weights.best.ResNet50_#4.hdf5\n",
      "6680/6680 [==============================] - 4s - loss: 2.7598 - acc: 0.2543 - val_loss: 1.6364 - val_acc: 0.6108\n",
      "Epoch 6/30\n",
      "6640/6680 [============================>.] - ETA: 0s - loss: 2.5329 - acc: 0.3029Epoch 00005: val_loss improved from 1.63640 to 1.41678, saving model to saved_models/weights.best.ResNet50_#4.hdf5\n",
      "6680/6680 [==============================] - 4s - loss: 2.5302 - acc: 0.3037 - val_loss: 1.4168 - val_acc: 0.6467\n",
      "Epoch 7/30\n",
      "6660/6680 [============================>.] - ETA: 0s - loss: 2.4026 - acc: 0.3188Epoch 00006: val_loss improved from 1.41678 to 1.28737, saving model to saved_models/weights.best.ResNet50_#4.hdf5\n",
      "6680/6680 [==============================] - 4s - loss: 2.4026 - acc: 0.3186 - val_loss: 1.2874 - val_acc: 0.6551\n",
      "Epoch 8/30\n",
      "6640/6680 [============================>.] - ETA: 0s - loss: 2.3218 - acc: 0.3452Epoch 00007: val_loss improved from 1.28737 to 1.19609, saving model to saved_models/weights.best.ResNet50_#4.hdf5\n",
      "6680/6680 [==============================] - 4s - loss: 2.3197 - acc: 0.3457 - val_loss: 1.1961 - val_acc: 0.6743\n",
      "Epoch 9/30\n",
      "6620/6680 [============================>.] - ETA: 0s - loss: 2.1816 - acc: 0.3722Epoch 00008: val_loss improved from 1.19609 to 1.12171, saving model to saved_models/weights.best.ResNet50_#4.hdf5\n",
      "6680/6680 [==============================] - 4s - loss: 2.1790 - acc: 0.3729 - val_loss: 1.1217 - val_acc: 0.6790\n",
      "Epoch 10/30\n",
      "6640/6680 [============================>.] - ETA: 0s - loss: 2.1080 - acc: 0.3962Epoch 00009: val_loss improved from 1.12171 to 1.07268, saving model to saved_models/weights.best.ResNet50_#4.hdf5\n",
      "6680/6680 [==============================] - 4s - loss: 2.1069 - acc: 0.3966 - val_loss: 1.0727 - val_acc: 0.7006\n",
      "Epoch 11/30\n",
      "6620/6680 [============================>.] - ETA: 0s - loss: 2.0351 - acc: 0.4094Epoch 00010: val_loss improved from 1.07268 to 1.01630, saving model to saved_models/weights.best.ResNet50_#4.hdf5\n",
      "6680/6680 [==============================] - 4s - loss: 2.0355 - acc: 0.4093 - val_loss: 1.0163 - val_acc: 0.7138\n",
      "Epoch 12/30\n",
      "6580/6680 [============================>.] - ETA: 0s - loss: 1.9957 - acc: 0.4208Epoch 00011: val_loss improved from 1.01630 to 0.99429, saving model to saved_models/weights.best.ResNet50_#4.hdf5\n",
      "6680/6680 [==============================] - 4s - loss: 1.9981 - acc: 0.4202 - val_loss: 0.9943 - val_acc: 0.7090\n",
      "Epoch 13/30\n",
      "6600/6680 [============================>.] - ETA: 0s - loss: 1.9578 - acc: 0.4215Epoch 00012: val_loss improved from 0.99429 to 0.94463, saving model to saved_models/weights.best.ResNet50_#4.hdf5\n",
      "6680/6680 [==============================] - 4s - loss: 1.9585 - acc: 0.4222 - val_loss: 0.9446 - val_acc: 0.7138\n",
      "Epoch 14/30\n",
      "6600/6680 [============================>.] - ETA: 0s - loss: 1.8891 - acc: 0.4488Epoch 00013: val_loss improved from 0.94463 to 0.93702, saving model to saved_models/weights.best.ResNet50_#4.hdf5\n",
      "6680/6680 [==============================] - 4s - loss: 1.8875 - acc: 0.4491 - val_loss: 0.9370 - val_acc: 0.7162\n",
      "Epoch 15/30\n",
      "6660/6680 [============================>.] - ETA: 0s - loss: 1.8701 - acc: 0.4422Epoch 00014: val_loss improved from 0.93702 to 0.91017, saving model to saved_models/weights.best.ResNet50_#4.hdf5\n",
      "6680/6680 [==============================] - 4s - loss: 1.8681 - acc: 0.4427 - val_loss: 0.9102 - val_acc: 0.7377\n",
      "Epoch 16/30\n",
      "6600/6680 [============================>.] - ETA: 0s - loss: 1.8499 - acc: 0.4573Epoch 00015: val_loss improved from 0.91017 to 0.88551, saving model to saved_models/weights.best.ResNet50_#4.hdf5\n",
      "6680/6680 [==============================] - 4s - loss: 1.8503 - acc: 0.4573 - val_loss: 0.8855 - val_acc: 0.7485\n",
      "Epoch 17/30\n",
      "6600/6680 [============================>.] - ETA: 0s - loss: 1.7850 - acc: 0.4817Epoch 00016: val_loss improved from 0.88551 to 0.86680, saving model to saved_models/weights.best.ResNet50_#4.hdf5\n",
      "6680/6680 [==============================] - 4s - loss: 1.7837 - acc: 0.4819 - val_loss: 0.8668 - val_acc: 0.7401\n",
      "Epoch 18/30\n",
      "6660/6680 [============================>.] - ETA: 0s - loss: 1.7516 - acc: 0.4712Epoch 00017: val_loss improved from 0.86680 to 0.85641, saving model to saved_models/weights.best.ResNet50_#4.hdf5\n",
      "6680/6680 [==============================] - 4s - loss: 1.7536 - acc: 0.4710 - val_loss: 0.8564 - val_acc: 0.7581\n",
      "Epoch 19/30\n",
      "6620/6680 [============================>.] - ETA: 0s - loss: 1.7495 - acc: 0.4734Epoch 00018: val_loss improved from 0.85641 to 0.84435, saving model to saved_models/weights.best.ResNet50_#4.hdf5\n",
      "6680/6680 [==============================] - 4s - loss: 1.7482 - acc: 0.4738 - val_loss: 0.8443 - val_acc: 0.7545\n",
      "Epoch 20/30\n",
      "6600/6680 [============================>.] - ETA: 0s - loss: 1.7090 - acc: 0.4961Epoch 00019: val_loss improved from 0.84435 to 0.82519, saving model to saved_models/weights.best.ResNet50_#4.hdf5\n",
      "6680/6680 [==============================] - 4s - loss: 1.7074 - acc: 0.4975 - val_loss: 0.8252 - val_acc: 0.7401\n",
      "Epoch 21/30\n",
      "6600/6680 [============================>.] - ETA: 0s - loss: 1.7120 - acc: 0.4898Epoch 00020: val_loss improved from 0.82519 to 0.80529, saving model to saved_models/weights.best.ResNet50_#4.hdf5\n",
      "6680/6680 [==============================] - 4s - loss: 1.7149 - acc: 0.4898 - val_loss: 0.8053 - val_acc: 0.7665\n",
      "Epoch 22/30\n",
      "6640/6680 [============================>.] - ETA: 0s - loss: 1.6797 - acc: 0.4995Epoch 00021: val_loss did not improve\n",
      "6680/6680 [==============================] - 4s - loss: 1.6809 - acc: 0.4991 - val_loss: 0.8071 - val_acc: 0.7677\n",
      "Epoch 23/30\n",
      "6660/6680 [============================>.] - ETA: 0s - loss: 1.6659 - acc: 0.4968Epoch 00022: val_loss improved from 0.80529 to 0.79959, saving model to saved_models/weights.best.ResNet50_#4.hdf5\n",
      "6680/6680 [==============================] - 4s - loss: 1.6665 - acc: 0.4969 - val_loss: 0.7996 - val_acc: 0.7713\n",
      "Epoch 24/30\n",
      "6600/6680 [============================>.] - ETA: 0s - loss: 1.6669 - acc: 0.4994Epoch 00023: val_loss improved from 0.79959 to 0.78948, saving model to saved_models/weights.best.ResNet50_#4.hdf5\n",
      "6680/6680 [==============================] - 4s - loss: 1.6669 - acc: 0.4994 - val_loss: 0.7895 - val_acc: 0.7689\n",
      "Epoch 25/30\n",
      "6620/6680 [============================>.] - ETA: 0s - loss: 1.6259 - acc: 0.5153Epoch 00024: val_loss improved from 0.78948 to 0.78798, saving model to saved_models/weights.best.ResNet50_#4.hdf5\n",
      "6680/6680 [==============================] - 4s - loss: 1.6235 - acc: 0.5159 - val_loss: 0.7880 - val_acc: 0.7689\n",
      "Epoch 26/30\n",
      "6640/6680 [============================>.] - ETA: 0s - loss: 1.5879 - acc: 0.5255Epoch 00025: val_loss did not improve\n"
     ]
    },
    {
     "name": "stdout",
     "output_type": "stream",
     "text": [
      "6680/6680 [==============================] - 4s - loss: 1.5880 - acc: 0.5253 - val_loss: 0.7884 - val_acc: 0.7784\n",
      "Epoch 27/30\n",
      "6640/6680 [============================>.] - ETA: 0s - loss: 1.6139 - acc: 0.5185Epoch 00026: val_loss improved from 0.78798 to 0.77367, saving model to saved_models/weights.best.ResNet50_#4.hdf5\n",
      "6680/6680 [==============================] - 4s - loss: 1.6131 - acc: 0.5187 - val_loss: 0.7737 - val_acc: 0.7617\n",
      "Epoch 28/30\n",
      "6620/6680 [============================>.] - ETA: 0s - loss: 1.5989 - acc: 0.5211Epoch 00027: val_loss improved from 0.77367 to 0.75407, saving model to saved_models/weights.best.ResNet50_#4.hdf5\n",
      "6680/6680 [==============================] - 4s - loss: 1.5996 - acc: 0.5214 - val_loss: 0.7541 - val_acc: 0.7772\n",
      "Epoch 29/30\n",
      "6660/6680 [============================>.] - ETA: 0s - loss: 1.5556 - acc: 0.5303Epoch 00028: val_loss did not improve\n",
      "6680/6680 [==============================] - 4s - loss: 1.5544 - acc: 0.5305 - val_loss: 0.7684 - val_acc: 0.7665\n",
      "Epoch 30/30\n",
      "6600/6680 [============================>.] - ETA: 0s - loss: 1.5610 - acc: 0.5268Epoch 00029: val_loss did not improve\n",
      "6680/6680 [==============================] - 4s - loss: 1.5610 - acc: 0.5263 - val_loss: 0.7573 - val_acc: 0.7737\n"
     ]
    }
   ],
   "source": [
    "### Train the model. (Model from ResNet50)\n",
    "\n",
    "# create model checkpointer\n",
    "modelCheckpointer_ResNet50 = ModelCheckpoint(filepath='saved_models/weights.best.ResNet50_#4.hdf5', \n",
    "                               verbose=1, save_best_only=True)\n",
    "\n",
    "# fit the model\n",
    "history = model_fromResNet50.fit(train_ResNet50, train_targets, validation_data=(valid_ResNet50, valid_targets),\n",
    "                   epochs=30, batch_size=20, callbacks=[modelCheckpointer_ResNet50], verbose=1)"
   ]
  },
  {
   "cell_type": "code",
   "execution_count": 44,
   "metadata": {},
   "outputs": [
    {
     "data": {
      "image/png": "[encoded data removed]",
      "text/plain": [
       "<matplotlib.figure.Figure at 0x7f2d6a935fd0>"
      ]
     },
     "metadata": {},
     "output_type": "display_data"
    }
   ],
   "source": [
    "# plot training loss and validation loss\n",
    "plt.plot(history.history['loss'], color='b')\n",
    "plt.plot(history.history['val_loss'], color='r')\n",
    "plt.show()"
   ]
  },
  {
   "cell_type": "code",
   "execution_count": 106,
   "metadata": {},
   "outputs": [
    {
     "name": "stdout",
     "output_type": "stream",
     "text": [
      "Train on 6680 samples, validate on 835 samples\n",
      "Epoch 1/20\n",
      "6620/6680 [============================>.] - ETA: 0s - loss: 0.3224 - acc: 0.8937Epoch 00000: val_loss improved from inf to 0.46438, saving model to saved_models/weights.best.InceptionV3#1.hdf5\n",
      "6680/6680 [==============================] - 3s - loss: 0.3223 - acc: 0.8940 - val_loss: 0.4644 - val_acc: 0.8671\n",
      "Epoch 2/20\n",
      "6660/6680 [============================>.] - ETA: 0s - loss: 0.3131 - acc: 0.8973Epoch 00001: val_loss did not improve\n",
      "6680/6680 [==============================] - 2s - loss: 0.3139 - acc: 0.8972 - val_loss: 0.4662 - val_acc: 0.8671\n",
      "Epoch 3/20\n",
      "6600/6680 [============================>.] - ETA: 0s - loss: 0.3226 - acc: 0.8935Epoch 00002: val_loss did not improve\n",
      "6680/6680 [==============================] - 2s - loss: 0.3226 - acc: 0.8936 - val_loss: 0.4653 - val_acc: 0.8659\n",
      "Epoch 4/20\n",
      "6660/6680 [============================>.] - ETA: 0s - loss: 0.3150 - acc: 0.8971Epoch 00003: val_loss did not improve\n",
      "6680/6680 [==============================] - 2s - loss: 0.3145 - acc: 0.8972 - val_loss: 0.4660 - val_acc: 0.8695\n",
      "Epoch 5/20\n",
      "6660/6680 [============================>.] - ETA: 0s - loss: 0.3131 - acc: 0.8944Epoch 00004: val_loss did not improve\n",
      "6680/6680 [==============================] - 2s - loss: 0.3131 - acc: 0.8943 - val_loss: 0.4665 - val_acc: 0.8671\n",
      "Epoch 6/20\n",
      "6520/6680 [============================>.] - ETA: 0s - loss: 0.3031 - acc: 0.9005Epoch 00005: val_loss did not improve\n",
      "6680/6680 [==============================] - 2s - loss: 0.3044 - acc: 0.9001 - val_loss: 0.4670 - val_acc: 0.8659\n",
      "Epoch 7/20\n",
      "6560/6680 [============================>.] - ETA: 0s - loss: 0.3123 - acc: 0.8970Epoch 00006: val_loss did not improve\n",
      "6680/6680 [==============================] - 2s - loss: 0.3132 - acc: 0.8967 - val_loss: 0.4669 - val_acc: 0.8683\n",
      "Epoch 8/20\n",
      "6600/6680 [============================>.] - ETA: 0s - loss: 0.3164 - acc: 0.8898Epoch 00007: val_loss did not improve\n",
      "6680/6680 [==============================] - 2s - loss: 0.3166 - acc: 0.8900 - val_loss: 0.4671 - val_acc: 0.8647\n",
      "Epoch 9/20\n",
      "6660/6680 [============================>.] - ETA: 0s - loss: 0.3126 - acc: 0.8979Epoch 00008: val_loss did not improve\n",
      "6680/6680 [==============================] - 2s - loss: 0.3125 - acc: 0.8978 - val_loss: 0.4673 - val_acc: 0.8659\n",
      "Epoch 10/20\n",
      "6540/6680 [============================>.] - ETA: 0s - loss: 0.3075 - acc: 0.8977Epoch 00009: val_loss did not improve\n",
      "6680/6680 [==============================] - 2s - loss: 0.3093 - acc: 0.8967 - val_loss: 0.4663 - val_acc: 0.8635\n",
      "Epoch 11/20\n",
      "6600/6680 [============================>.] - ETA: 0s - loss: 0.3091 - acc: 0.8971Epoch 00010: val_loss did not improve\n",
      "6680/6680 [==============================] - 2s - loss: 0.3075 - acc: 0.8978 - val_loss: 0.4674 - val_acc: 0.8635\n",
      "Epoch 12/20\n",
      "6080/6680 [==========================>...] - ETA: 0s - loss: 0.3047 - acc: 0.9007"
     ]
    },
    {
     "ename": "KeyboardInterrupt",
     "evalue": "",
     "output_type": "error",
     "traceback": [
      "\u001b[0;31m---------------------------------------------------------------------------\u001b[0m",
      "\u001b[0;31mKeyboardInterrupt\u001b[0m                         Traceback (most recent call last)",
      "\u001b[0;32m<ipython-input-106-24a994dc58b6>\u001b[0m in \u001b[0;36m<module>\u001b[0;34m()\u001b[0m\n\u001b[1;32m      7\u001b[0m \u001b[0;31m# fit the model\u001b[0m\u001b[0;34m\u001b[0m\u001b[0;34m\u001b[0m\u001b[0m\n\u001b[1;32m      8\u001b[0m history = model_fromIncep.fit(train_Incep, train_targets, validation_data=(valid_Incep, valid_targets),\n\u001b[0;32m----> 9\u001b[0;31m                    epochs=20, batch_size=20, callbacks=[modelCheckpointer_Incep], verbose=1)\n\u001b[0m",
      "\u001b[0;32m/home/aind2/anaconda3/envs/aind2/lib/python3.6/site-packages/keras/models.py\u001b[0m in \u001b[0;36mfit\u001b[0;34m(self, x, y, batch_size, epochs, verbose, callbacks, validation_split, validation_data, shuffle, class_weight, sample_weight, initial_epoch, **kwargs)\u001b[0m\n\u001b[1;32m    854\u001b[0m                               \u001b[0mclass_weight\u001b[0m\u001b[0;34m=\u001b[0m\u001b[0mclass_weight\u001b[0m\u001b[0;34m,\u001b[0m\u001b[0;34m\u001b[0m\u001b[0m\n\u001b[1;32m    855\u001b[0m                               \u001b[0msample_weight\u001b[0m\u001b[0;34m=\u001b[0m\u001b[0msample_weight\u001b[0m\u001b[0;34m,\u001b[0m\u001b[0;34m\u001b[0m\u001b[0m\n\u001b[0;32m--> 856\u001b[0;31m                               initial_epoch=initial_epoch)\n\u001b[0m\u001b[1;32m    857\u001b[0m \u001b[0;34m\u001b[0m\u001b[0m\n\u001b[1;32m    858\u001b[0m     def evaluate(self, x, y, batch_size=32, verbose=1,\n",
      "\u001b[0;32m/home/aind2/anaconda3/envs/aind2/lib/python3.6/site-packages/keras/engine/training.py\u001b[0m in \u001b[0;36mfit\u001b[0;34m(self, x, y, batch_size, epochs, verbose, callbacks, validation_split, validation_data, shuffle, class_weight, sample_weight, initial_epoch, **kwargs)\u001b[0m\n\u001b[1;32m   1496\u001b[0m                               \u001b[0mval_f\u001b[0m\u001b[0;34m=\u001b[0m\u001b[0mval_f\u001b[0m\u001b[0;34m,\u001b[0m \u001b[0mval_ins\u001b[0m\u001b[0;34m=\u001b[0m\u001b[0mval_ins\u001b[0m\u001b[0;34m,\u001b[0m \u001b[0mshuffle\u001b[0m\u001b[0;34m=\u001b[0m\u001b[0mshuffle\u001b[0m\u001b[0;34m,\u001b[0m\u001b[0;34m\u001b[0m\u001b[0m\n\u001b[1;32m   1497\u001b[0m                               \u001b[0mcallback_metrics\u001b[0m\u001b[0;34m=\u001b[0m\u001b[0mcallback_metrics\u001b[0m\u001b[0;34m,\u001b[0m\u001b[0;34m\u001b[0m\u001b[0m\n\u001b[0;32m-> 1498\u001b[0;31m                               initial_epoch=initial_epoch)\n\u001b[0m\u001b[1;32m   1499\u001b[0m \u001b[0;34m\u001b[0m\u001b[0m\n\u001b[1;32m   1500\u001b[0m     \u001b[0;32mdef\u001b[0m \u001b[0mevaluate\u001b[0m\u001b[0;34m(\u001b[0m\u001b[0mself\u001b[0m\u001b[0;34m,\u001b[0m \u001b[0mx\u001b[0m\u001b[0;34m,\u001b[0m \u001b[0my\u001b[0m\u001b[0;34m,\u001b[0m \u001b[0mbatch_size\u001b[0m\u001b[0;34m=\u001b[0m\u001b[0;36m32\u001b[0m\u001b[0;34m,\u001b[0m \u001b[0mverbose\u001b[0m\u001b[0;34m=\u001b[0m\u001b[0;36m1\u001b[0m\u001b[0;34m,\u001b[0m \u001b[0msample_weight\u001b[0m\u001b[0;34m=\u001b[0m\u001b[0;32mNone\u001b[0m\u001b[0;34m)\u001b[0m\u001b[0;34m:\u001b[0m\u001b[0;34m\u001b[0m\u001b[0m\n",
      "\u001b[0;32m/home/aind2/anaconda3/envs/aind2/lib/python3.6/site-packages/keras/engine/training.py\u001b[0m in \u001b[0;36m_fit_loop\u001b[0;34m(self, f, ins, out_labels, batch_size, epochs, verbose, callbacks, val_f, val_ins, shuffle, callback_metrics, initial_epoch)\u001b[0m\n\u001b[1;32m   1150\u001b[0m                 \u001b[0mbatch_logs\u001b[0m\u001b[0;34m[\u001b[0m\u001b[0;34m'size'\u001b[0m\u001b[0;34m]\u001b[0m \u001b[0;34m=\u001b[0m \u001b[0mlen\u001b[0m\u001b[0;34m(\u001b[0m\u001b[0mbatch_ids\u001b[0m\u001b[0;34m)\u001b[0m\u001b[0;34m\u001b[0m\u001b[0m\n\u001b[1;32m   1151\u001b[0m                 \u001b[0mcallbacks\u001b[0m\u001b[0;34m.\u001b[0m\u001b[0mon_batch_begin\u001b[0m\u001b[0;34m(\u001b[0m\u001b[0mbatch_index\u001b[0m\u001b[0;34m,\u001b[0m \u001b[0mbatch_logs\u001b[0m\u001b[0;34m)\u001b[0m\u001b[0;34m\u001b[0m\u001b[0m\n\u001b[0;32m-> 1152\u001b[0;31m                 \u001b[0mouts\u001b[0m \u001b[0;34m=\u001b[0m \u001b[0mf\u001b[0m\u001b[0;34m(\u001b[0m\u001b[0mins_batch\u001b[0m\u001b[0;34m)\u001b[0m\u001b[0;34m\u001b[0m\u001b[0m\n\u001b[0m\u001b[1;32m   1153\u001b[0m                 \u001b[0;32mif\u001b[0m \u001b[0;32mnot\u001b[0m \u001b[0misinstance\u001b[0m\u001b[0;34m(\u001b[0m\u001b[0mouts\u001b[0m\u001b[0;34m,\u001b[0m \u001b[0mlist\u001b[0m\u001b[0;34m)\u001b[0m\u001b[0;34m:\u001b[0m\u001b[0;34m\u001b[0m\u001b[0m\n\u001b[1;32m   1154\u001b[0m                     \u001b[0mouts\u001b[0m \u001b[0;34m=\u001b[0m \u001b[0;34m[\u001b[0m\u001b[0mouts\u001b[0m\u001b[0;34m]\u001b[0m\u001b[0;34m\u001b[0m\u001b[0m\n",
      "\u001b[0;32m/home/aind2/anaconda3/envs/aind2/lib/python3.6/site-packages/keras/backend/tensorflow_backend.py\u001b[0m in \u001b[0;36m__call__\u001b[0;34m(self, inputs)\u001b[0m\n\u001b[1;32m   2227\u001b[0m         \u001b[0msession\u001b[0m \u001b[0;34m=\u001b[0m \u001b[0mget_session\u001b[0m\u001b[0;34m(\u001b[0m\u001b[0;34m)\u001b[0m\u001b[0;34m\u001b[0m\u001b[0m\n\u001b[1;32m   2228\u001b[0m         updated = session.run(self.outputs + [self.updates_op],\n\u001b[0;32m-> 2229\u001b[0;31m                               feed_dict=feed_dict)\n\u001b[0m\u001b[1;32m   2230\u001b[0m         \u001b[0;32mreturn\u001b[0m \u001b[0mupdated\u001b[0m\u001b[0;34m[\u001b[0m\u001b[0;34m:\u001b[0m\u001b[0mlen\u001b[0m\u001b[0;34m(\u001b[0m\u001b[0mself\u001b[0m\u001b[0;34m.\u001b[0m\u001b[0moutputs\u001b[0m\u001b[0;34m)\u001b[0m\u001b[0;34m]\u001b[0m\u001b[0;34m\u001b[0m\u001b[0m\n\u001b[1;32m   2231\u001b[0m \u001b[0;34m\u001b[0m\u001b[0m\n",
      "\u001b[0;32m/home/aind2/anaconda3/envs/aind2/lib/python3.6/site-packages/tensorflow/python/client/session.py\u001b[0m in \u001b[0;36mrun\u001b[0;34m(self, fetches, feed_dict, options, run_metadata)\u001b[0m\n\u001b[1;32m    776\u001b[0m     \u001b[0;32mtry\u001b[0m\u001b[0;34m:\u001b[0m\u001b[0;34m\u001b[0m\u001b[0m\n\u001b[1;32m    777\u001b[0m       result = self._run(None, fetches, feed_dict, options_ptr,\n\u001b[0;32m--> 778\u001b[0;31m                          run_metadata_ptr)\n\u001b[0m\u001b[1;32m    779\u001b[0m       \u001b[0;32mif\u001b[0m \u001b[0mrun_metadata\u001b[0m\u001b[0;34m:\u001b[0m\u001b[0;34m\u001b[0m\u001b[0m\n\u001b[1;32m    780\u001b[0m         \u001b[0mproto_data\u001b[0m \u001b[0;34m=\u001b[0m \u001b[0mtf_session\u001b[0m\u001b[0;34m.\u001b[0m\u001b[0mTF_GetBuffer\u001b[0m\u001b[0;34m(\u001b[0m\u001b[0mrun_metadata_ptr\u001b[0m\u001b[0;34m)\u001b[0m\u001b[0;34m\u001b[0m\u001b[0m\n",
      "\u001b[0;32m/home/aind2/anaconda3/envs/aind2/lib/python3.6/site-packages/tensorflow/python/client/session.py\u001b[0m in \u001b[0;36m_run\u001b[0;34m(self, handle, fetches, feed_dict, options, run_metadata)\u001b[0m\n\u001b[1;32m    980\u001b[0m     \u001b[0;32mif\u001b[0m \u001b[0mfinal_fetches\u001b[0m \u001b[0;32mor\u001b[0m \u001b[0mfinal_targets\u001b[0m\u001b[0;34m:\u001b[0m\u001b[0;34m\u001b[0m\u001b[0m\n\u001b[1;32m    981\u001b[0m       results = self._do_run(handle, final_targets, final_fetches,\n\u001b[0;32m--> 982\u001b[0;31m                              feed_dict_string, options, run_metadata)\n\u001b[0m\u001b[1;32m    983\u001b[0m     \u001b[0;32melse\u001b[0m\u001b[0;34m:\u001b[0m\u001b[0;34m\u001b[0m\u001b[0m\n\u001b[1;32m    984\u001b[0m       \u001b[0mresults\u001b[0m \u001b[0;34m=\u001b[0m \u001b[0;34m[\u001b[0m\u001b[0;34m]\u001b[0m\u001b[0;34m\u001b[0m\u001b[0m\n",
      "\u001b[0;32m/home/aind2/anaconda3/envs/aind2/lib/python3.6/site-packages/tensorflow/python/client/session.py\u001b[0m in \u001b[0;36m_do_run\u001b[0;34m(self, handle, target_list, fetch_list, feed_dict, options, run_metadata)\u001b[0m\n\u001b[1;32m   1030\u001b[0m     \u001b[0;32mif\u001b[0m \u001b[0mhandle\u001b[0m \u001b[0;32mis\u001b[0m \u001b[0;32mNone\u001b[0m\u001b[0;34m:\u001b[0m\u001b[0;34m\u001b[0m\u001b[0m\n\u001b[1;32m   1031\u001b[0m       return self._do_call(_run_fn, self._session, feed_dict, fetch_list,\n\u001b[0;32m-> 1032\u001b[0;31m                            target_list, options, run_metadata)\n\u001b[0m\u001b[1;32m   1033\u001b[0m     \u001b[0;32melse\u001b[0m\u001b[0;34m:\u001b[0m\u001b[0;34m\u001b[0m\u001b[0m\n\u001b[1;32m   1034\u001b[0m       return self._do_call(_prun_fn, self._session, handle, feed_dict,\n",
      "\u001b[0;32m/home/aind2/anaconda3/envs/aind2/lib/python3.6/site-packages/tensorflow/python/client/session.py\u001b[0m in \u001b[0;36m_do_call\u001b[0;34m(self, fn, *args)\u001b[0m\n\u001b[1;32m   1037\u001b[0m   \u001b[0;32mdef\u001b[0m \u001b[0m_do_call\u001b[0m\u001b[0;34m(\u001b[0m\u001b[0mself\u001b[0m\u001b[0;34m,\u001b[0m \u001b[0mfn\u001b[0m\u001b[0;34m,\u001b[0m \u001b[0;34m*\u001b[0m\u001b[0margs\u001b[0m\u001b[0;34m)\u001b[0m\u001b[0;34m:\u001b[0m\u001b[0;34m\u001b[0m\u001b[0m\n\u001b[1;32m   1038\u001b[0m     \u001b[0;32mtry\u001b[0m\u001b[0;34m:\u001b[0m\u001b[0;34m\u001b[0m\u001b[0m\n\u001b[0;32m-> 1039\u001b[0;31m       \u001b[0;32mreturn\u001b[0m \u001b[0mfn\u001b[0m\u001b[0;34m(\u001b[0m\u001b[0;34m*\u001b[0m\u001b[0margs\u001b[0m\u001b[0;34m)\u001b[0m\u001b[0;34m\u001b[0m\u001b[0m\n\u001b[0m\u001b[1;32m   1040\u001b[0m     \u001b[0;32mexcept\u001b[0m \u001b[0merrors\u001b[0m\u001b[0;34m.\u001b[0m\u001b[0mOpError\u001b[0m \u001b[0;32mas\u001b[0m \u001b[0me\u001b[0m\u001b[0;34m:\u001b[0m\u001b[0;34m\u001b[0m\u001b[0m\n\u001b[1;32m   1041\u001b[0m       \u001b[0mmessage\u001b[0m \u001b[0;34m=\u001b[0m \u001b[0mcompat\u001b[0m\u001b[0;34m.\u001b[0m\u001b[0mas_text\u001b[0m\u001b[0;34m(\u001b[0m\u001b[0me\u001b[0m\u001b[0;34m.\u001b[0m\u001b[0mmessage\u001b[0m\u001b[0;34m)\u001b[0m\u001b[0;34m\u001b[0m\u001b[0m\n",
      "\u001b[0;32m/home/aind2/anaconda3/envs/aind2/lib/python3.6/site-packages/tensorflow/python/client/session.py\u001b[0m in \u001b[0;36m_run_fn\u001b[0;34m(session, feed_dict, fetch_list, target_list, options, run_metadata)\u001b[0m\n\u001b[1;32m   1019\u001b[0m         return tf_session.TF_Run(session, options,\n\u001b[1;32m   1020\u001b[0m                                  \u001b[0mfeed_dict\u001b[0m\u001b[0;34m,\u001b[0m \u001b[0mfetch_list\u001b[0m\u001b[0;34m,\u001b[0m \u001b[0mtarget_list\u001b[0m\u001b[0;34m,\u001b[0m\u001b[0;34m\u001b[0m\u001b[0m\n\u001b[0;32m-> 1021\u001b[0;31m                                  status, run_metadata)\n\u001b[0m\u001b[1;32m   1022\u001b[0m \u001b[0;34m\u001b[0m\u001b[0m\n\u001b[1;32m   1023\u001b[0m     \u001b[0;32mdef\u001b[0m \u001b[0m_prun_fn\u001b[0m\u001b[0;34m(\u001b[0m\u001b[0msession\u001b[0m\u001b[0;34m,\u001b[0m \u001b[0mhandle\u001b[0m\u001b[0;34m,\u001b[0m \u001b[0mfeed_dict\u001b[0m\u001b[0;34m,\u001b[0m \u001b[0mfetch_list\u001b[0m\u001b[0;34m)\u001b[0m\u001b[0;34m:\u001b[0m\u001b[0;34m\u001b[0m\u001b[0m\n",
      "\u001b[0;31mKeyboardInterrupt\u001b[0m: "
     ]
    }
   ],
   "source": [
    "### Train the model. (Model from Incep)\n",
    "\n",
    "# create model checkpointer\n",
    "modelCheckpointer_Incep = ModelCheckpoint(filepath='saved_models/weights.best.InceptionV3#1.hdf5', \n",
    "                               verbose=1, save_best_only=True)\n",
    "\n",
    "# fit the model\n",
    "history = model_fromIncep.fit(train_Incep, train_targets, validation_data=(valid_Incep, valid_targets),\n",
    "                   epochs=20, batch_size=20, callbacks=[modelCheckpointer_Incep], verbose=1)"
   ]
  },
  {
   "cell_type": "code",
   "execution_count": 94,
   "metadata": {},
   "outputs": [
    {
     "data": {
      "image/png": "[encoded data removed]",
      "text/plain": [
       "<matplotlib.figure.Figure at 0x7f2d6921d198>"
      ]
     },
     "metadata": {},
     "output_type": "display_data"
    }
   ],
   "source": [
    "# plot training loss and validation loss\n",
    "plt.plot(history.history['loss'], color='b')\n",
    "plt.plot(history.history['val_loss'], color='r')\n",
    "plt.show()"
   ]
  },
  {
   "cell_type": "markdown",
   "metadata": {},
   "source": [
    "### (IMPLEMENTATION) Load the Model with the Best Validation Loss"
   ]
  },
  {
   "cell_type": "code",
   "execution_count": 37,
   "metadata": {
    "collapsed": true
   },
   "outputs": [],
   "source": [
    "### Load the model weights with the best validation loss. (Model from VGG19)\n",
    "model_fromVGG19.load_weights('saved_models/weights.best.VGG19_#8.hdf5')"
   ]
  },
  {
   "cell_type": "code",
   "execution_count": 45,
   "metadata": {
    "collapsed": true
   },
   "outputs": [],
   "source": [
    "### Load the model weights with the best validation loss. (Model from ResNet50)\n",
    "model_fromResNet50.load_weights('saved_models/weights.best.ResNet50_#4.hdf5')"
   ]
  },
  {
   "cell_type": "code",
   "execution_count": 104,
   "metadata": {
    "collapsed": true
   },
   "outputs": [],
   "source": [
    "### Load the model weights with the best validation loss. (Model from ResNet50)\n",
    "model_fromIncep.load_weights('saved_models/weights.best.InceptionV3#1.hdf5')"
   ]
  },
  {
   "cell_type": "markdown",
   "metadata": {},
   "source": [
    "### (IMPLEMENTATION) Test the Model\n",
    "\n",
    "Try out your model on the test dataset of dog images. Ensure that your test accuracy is greater than 60%."
   ]
  },
  {
   "cell_type": "code",
   "execution_count": 38,
   "metadata": {},
   "outputs": [
    {
     "name": "stdout",
     "output_type": "stream",
     "text": [
      "Test Accuracy from model(VGG19): 72.3684%\n"
     ]
    }
   ],
   "source": [
    "### Calculate classification accuracy on the test dataset. (Model from VGG19)\n",
    "\n",
    "# get the predictions of the test dataset from model_fromVGG19\n",
    "\n",
    "test_predictions_from_VGG19 = [np.argmax(model_fromVGG19.predict(np.expand_dims(test_vector, axis=0))) for test_vector in test_VGG19]\n",
    "\n",
    "# calculate the accuracy of mode from VGG19\n",
    "\n",
    "test_accuracy_from_VGG19 = 100*np.sum(np.array(test_predictions_from_VGG19) == np.argmax(test_targets, axis=1))/len(test_predictions_from_VGG19)\n",
    "print(\"Test Accuracy from model(VGG19): %.4f%%\" % test_accuracy_from_VGG19)\n"
   ]
  },
  {
   "cell_type": "code",
   "execution_count": 46,
   "metadata": {},
   "outputs": [
    {
     "name": "stdout",
     "output_type": "stream",
     "text": [
      "Test Accuracy from model(ResNet50): 77.2727%\n"
     ]
    }
   ],
   "source": [
    "### Calculate classification accuracy on the test dataset. (Model from ResNet50)\n",
    "\n",
    "# get the predictions of the test dataset from model_fromResNet50\n",
    "\n",
    "test_predictions_from_ResNet50 = [np.argmax(model_fromResNet50.predict(np.expand_dims(test_vector, axis=0))) for test_vector in test_ResNet50]\n",
    "\n",
    "# calculate the accuracy of mode from ResNet50\n",
    "\n",
    "test_accuracy_from_ResNet50 = 100*np.sum(np.array(test_predictions_from_ResNet50) == np.argmax(test_targets, axis=1))/len(test_predictions_from_ResNet50)\n",
    "print(\"Test Accuracy from model(ResNet50): %.4f%%\" % test_accuracy_from_ResNet50)\n"
   ]
  },
  {
   "cell_type": "code",
   "execution_count": 96,
   "metadata": {},
   "outputs": [
    {
     "name": "stdout",
     "output_type": "stream",
     "text": [
      "Test Accuracy from model(InceptionV3): 83.6124%\n"
     ]
    }
   ],
   "source": [
    "### Calculate classification accuracy on the test dataset. (Model from InceptV3)\n",
    "\n",
    "# get the predictions of the test dataset from model_fromInceptV3\n",
    "\n",
    "test_predictions_from_Incep = [np.argmax(model_fromIncep.predict(np.expand_dims(test_vector, axis=0))) for test_vector in test_Incep]\n",
    "\n",
    "# calculate the accuracy of mode from InceptV3\n",
    "\n",
    "test_accuracy_from_Incep = 100*np.sum(np.array(test_predictions_from_Incep) == np.argmax(test_targets, axis=1))/len(test_predictions_from_Incep)\n",
    "print(\"Test Accuracy from model(InceptionV3): %.4f%%\" % test_accuracy_from_Incep)\n"
   ]
  },
  {
   "cell_type": "markdown",
   "metadata": {},
   "source": [
    "### (IMPLEMENTATION) Predict Dog Breed with the Model\n",
    "\n",
    "Write a function that takes an image path as input and returns the dog breed (`Affenpinscher`, `Afghan_hound`, etc) that is predicted by your model.  \n",
    "\n",
    "Similar to the analogous function in Step 5, your function should have three steps:\n",
    "1. Extract the bottleneck features corresponding to the chosen CNN model.\n",
    "2. Supply the bottleneck features as input to the model to return the predicted vector.  Note that the argmax of this prediction vector gives the index of the predicted dog breed.\n",
    "3. Use the `dog_names` array defined in Step 0 of this notebook to return the corresponding breed.\n",
    "\n",
    "The functions to extract the bottleneck features can be found in `extract_bottleneck_features.py`, and they have been imported in an earlier code cell.  To obtain the bottleneck features corresponding to your chosen CNN architecture, you need to use the function\n",
    "\n",
    "    extract_{network}\n",
    "    \n",
    "where `{network}`, in the above filename, should be one of `VGG19`, `Resnet50`, `InceptionV3`, or `Xception`."
   ]
  },
  {
   "cell_type": "code",
   "execution_count": null,
   "metadata": {
    "collapsed": true
   },
   "outputs": [],
   "source": [
    "### TODO: Write a function that takes a path to an image as input\n",
    "### and returns the dog breed that is predicted by the model."
   ]
  },
  {
   "cell_type": "markdown",
   "metadata": {},
   "source": [
    "---\n",
    "<a id='step6'></a>\n",
    "## Step 6: Write your Algorithm\n",
    "\n",
    "Write an algorithm that accepts a file path to an image and first determines whether the image contains a human, dog, or neither.  Then,\n",
    "- if a __dog__ is detected in the image, return the predicted breed.\n",
    "- if a __human__ is detected in the image, return the resembling dog breed.\n",
    "- if __neither__ is detected in the image, provide output that indicates an error.\n",
    "\n",
    "You are welcome to write your own functions for detecting humans and dogs in images, but feel free to use the `face_detector` and `dog_detector` functions developed above.  You are __required__ to use your CNN from Step 5 to predict dog breed.  \n",
    "\n",
    "Some sample output for our algorithm is provided below, but feel free to design your own user experience!\n",
    "\n",
    "![Sample Human Output](images/sample_human_output.png)\n",
    "\n",
    "\n",
    "### (IMPLEMENTATION) Write your Algorithm"
   ]
  },
  {
   "cell_type": "code",
   "execution_count": null,
   "metadata": {
    "collapsed": true
   },
   "outputs": [],
   "source": [
    "### TODO: Write your algorithm.\n",
    "### Feel free to use as many code cells as needed."
   ]
  },
  {
   "cell_type": "markdown",
   "metadata": {},
   "source": [
    "---\n",
    "<a id='step7'></a>\n",
    "## Step 7: Test Your Algorithm\n",
    "\n",
    "In this section, you will take your new algorithm for a spin!  What kind of dog does the algorithm think that __you__ look like?  If you have a dog, does it predict your dog's breed accurately?  If you have a cat, does it mistakenly think that your cat is a dog?\n",
    "\n",
    "### (IMPLEMENTATION) Test Your Algorithm on Sample Images!\n",
    "\n",
    "Test your algorithm at least six images on your computer.  Feel free to use any images you like.  Use at least two human and two dog images.  \n",
    "\n",
    "__Question 6:__ Is the output better than you expected :) ?  Or worse :( ?  Provide at least three possible points of improvement for your algorithm.\n",
    "\n",
    "__Answer:__ "
   ]
  },
  {
   "cell_type": "code",
   "execution_count": null,
   "metadata": {
    "collapsed": true
   },
   "outputs": [],
   "source": [
    "## TODO: Execute your algorithm from Step 6 on\n",
    "## at least 6 images on your computer.\n",
    "## Feel free to use as many code cells as needed."
   ]
  }
 ],
 "metadata": {
  "anaconda-cloud": {},
  "kernelspec": {
   "display_name": "Python 3",
   "language": "python",
   "name": "python3"
  },
  "language_info": {
   "codemirror_mode": {
    "name": "ipython",
    "version": 3
   },
   "file_extension": ".py",
   "mimetype": "text/x-python",
   "name": "python",
   "nbconvert_exporter": "python",
   "pygments_lexer": "ipython3",
   "version": "3.6.1"
  }
 },
 "nbformat": 4,
 "nbformat_minor": 1
}
