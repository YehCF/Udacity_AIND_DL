{
 "cells": [
  {
   "cell_type": "markdown",
   "metadata": {
    "deletable": true,
    "editable": true
   },
   "source": [
    "# Analyzing IMDB Data in Keras"
   ]
  },
  {
   "cell_type": "code",
   "execution_count": 1,
   "metadata": {
    "collapsed": false,
    "deletable": true,
    "editable": true
   },
   "outputs": [
    {
     "name": "stderr",
     "output_type": "stream",
     "text": [
      "Using TensorFlow backend.\n"
     ]
    }
   ],
   "source": [
    "# Import Dependencies\n",
    "import numpy as np\n",
    "import keras\n",
    "from keras.datasets import imdb\n",
    "from keras.models import Sequential\n",
    "from keras.layers import Dense, Dropout, Activation\n",
    "from keras.preprocessing.text import Tokenizer\n",
    "import matplotlib.pyplot as plt\n",
    "%matplotlib inline\n",
    "np.random.seed(42)"
   ]
  },
  {
   "cell_type": "markdown",
   "metadata": {
    "deletable": true,
    "editable": true
   },
   "source": [
    "## 1. Loading the data\n",
    "This dataset comes preloaded with Keras, so one simple command will get us training and testing data. There is a parameter for how many words we want to look at. We've set it at 1000, but feel free to experiment."
   ]
  },
  {
   "cell_type": "code",
   "execution_count": 2,
   "metadata": {
    "collapsed": false,
    "deletable": true,
    "editable": true
   },
   "outputs": [
    {
     "name": "stdout",
     "output_type": "stream",
     "text": [
      "(25000,)\n",
      "(25000,)\n"
     ]
    }
   ],
   "source": [
    "# Lading the data (it's preloaded in Keras)\n",
    "(x_train, y_train), (x_test, y_test) = imdb.load_data(num_words=1000)\n",
    "print(x_train.shape)\n",
    "print(x_test.shape)"
   ]
  },
  {
   "cell_type": "markdown",
   "metadata": {
    "deletable": true,
    "editable": true
   },
   "source": [
    "## 2. Examining the data\n",
    "Notice that the data has been already pre-processed, where all the words have numbers, and the reviews come in as a vector with the words that the review contains. For example, if the word 'the' is the first one in our dictionary, and a review contains the word 'the', then there is a 1 in the corresponding vector.\n",
    "\n",
    "The output comes as a vector of 1's and 0's, where 1 is a positive sentiment for the review, and 0 is negative."
   ]
  },
  {
   "cell_type": "code",
   "execution_count": 3,
   "metadata": {
    "collapsed": false,
    "deletable": true,
    "editable": true
   },
   "outputs": [
    {
     "name": "stdout",
     "output_type": "stream",
     "text": [
      "[1, 14, 22, 16, 43, 530, 973, 2, 2, 65, 458, 2, 66, 2, 4, 173, 36, 256, 5, 25, 100, 43, 838, 112, 50, 670, 2, 9, 35, 480, 284, 5, 150, 4, 172, 112, 167, 2, 336, 385, 39, 4, 172, 2, 2, 17, 546, 38, 13, 447, 4, 192, 50, 16, 6, 147, 2, 19, 14, 22, 4, 2, 2, 469, 4, 22, 71, 87, 12, 16, 43, 530, 38, 76, 15, 13, 2, 4, 22, 17, 515, 17, 12, 16, 626, 18, 2, 5, 62, 386, 12, 8, 316, 8, 106, 5, 4, 2, 2, 16, 480, 66, 2, 33, 4, 130, 12, 16, 38, 619, 5, 25, 124, 51, 36, 135, 48, 25, 2, 33, 6, 22, 12, 215, 28, 77, 52, 5, 14, 407, 16, 82, 2, 8, 4, 107, 117, 2, 15, 256, 4, 2, 7, 2, 5, 723, 36, 71, 43, 530, 476, 26, 400, 317, 46, 7, 4, 2, 2, 13, 104, 88, 4, 381, 15, 297, 98, 32, 2, 56, 26, 141, 6, 194, 2, 18, 4, 226, 22, 21, 134, 476, 26, 480, 5, 144, 30, 2, 18, 51, 36, 28, 224, 92, 25, 104, 4, 226, 65, 16, 38, 2, 88, 12, 16, 283, 5, 16, 2, 113, 103, 32, 15, 16, 2, 19, 178, 32]\n",
      "1\n"
     ]
    }
   ],
   "source": [
    "print(x_train[0])\n",
    "print(y_train[0])"
   ]
  },
  {
   "cell_type": "markdown",
   "metadata": {
    "deletable": true,
    "editable": true
   },
   "source": [
    "## 3. One-hot encoding the output\n",
    "Here, we'll turn the input vectors into (0,1)-vectors. For example, if the pre-processed vector contains the number 14, then in the processed vector, the 14th entry will be 1."
   ]
  },
  {
   "cell_type": "code",
   "execution_count": 4,
   "metadata": {
    "collapsed": false,
    "deletable": true,
    "editable": true
   },
   "outputs": [
    {
     "name": "stdout",
     "output_type": "stream",
     "text": [
      "Shape of x_train: (25000, 1000)\n",
      "[ 0.  1.  1.  0.  1.  1.  1.  1.  1.  1.  0.  0.  1.  1.  1.  1.  1.  1.\n",
      "  1.  1.  0.  1.  1.  0.  0.  1.  1.  0.  1.  0.  1.  0.  1.  1.  0.  1.\n",
      "  1.  0.  1.  1.  0.  0.  0.  1.  0.  0.  1.  0.  1.  0.  1.  1.  1.  0.\n",
      "  0.  0.  1.  0.  0.  0.  0.  0.  1.  0.  0.  1.  1.  0.  0.  0.  0.  1.\n",
      "  0.  0.  0.  0.  1.  1.  0.  0.  0.  0.  1.  0.  0.  0.  0.  1.  1.  0.\n",
      "  0.  0.  1.  0.  0.  0.  0.  0.  1.  0.  1.  0.  0.  1.  1.  0.  1.  1.\n",
      "  0.  0.  0.  0.  1.  1.  0.  0.  0.  1.  0.  0.  0.  0.  0.  0.  1.  0.\n",
      "  0.  0.  0.  0.  1.  0.  0.  0.  1.  1.  0.  0.  0.  0.  0.  1.  0.  0.\n",
      "  1.  0.  0.  1.  0.  0.  1.  0.  0.  0.  0.  0.  0.  0.  0.  0.  0.  0.\n",
      "  0.  0.  0.  0.  0.  1.  0.  0.  0.  0.  1.  1.  0.  0.  0.  0.  1.  0.\n",
      "  0.  0.  0.  0.  0.  0.  0.  0.  0.  0.  0.  0.  1.  0.  1.  0.  0.  0.\n",
      "  0.  0.  0.  0.  0.  0.  0.  0.  0.  0.  0.  0.  0.  0.  0.  0.  0.  1.\n",
      "  0.  0.  0.  0.  0.  0.  0.  0.  1.  0.  1.  0.  0.  0.  0.  0.  0.  0.\n",
      "  0.  0.  0.  0.  0.  0.  0.  0.  0.  0.  0.  0.  0.  0.  0.  0.  0.  0.\n",
      "  0.  0.  0.  0.  1.  0.  0.  0.  0.  0.  0.  0.  0.  0.  0.  0.  0.  0.\n",
      "  0.  0.  0.  0.  0.  0.  0.  0.  0.  0.  0.  0.  0.  1.  1.  0.  0.  0.\n",
      "  0.  0.  0.  0.  0.  0.  0.  0.  0.  1.  0.  0.  0.  0.  0.  0.  0.  0.\n",
      "  0.  0.  0.  0.  0.  0.  0.  0.  0.  0.  1.  1.  0.  0.  0.  0.  0.  0.\n",
      "  0.  0.  0.  0.  0.  0.  0.  0.  0.  0.  0.  0.  1.  0.  0.  0.  0.  0.\n",
      "  0.  0.  0.  0.  0.  0.  0.  0.  0.  0.  0.  0.  0.  0.  0.  0.  0.  0.\n",
      "  0.  0.  0.  0.  0.  0.  0.  0.  0.  0.  0.  0.  0.  0.  0.  0.  0.  0.\n",
      "  0.  0.  0.  1.  0.  0.  0.  1.  1.  0.  0.  0.  0.  0.  0.  0.  0.  0.\n",
      "  0.  0.  0.  0.  1.  0.  0.  0.  0.  0.  0.  1.  0.  0.  0.  0.  0.  0.\n",
      "  0.  0.  0.  0.  0.  0.  0.  0.  0.  0.  0.  0.  0.  0.  0.  0.  0.  0.\n",
      "  0.  0.  0.  0.  0.  0.  0.  0.  0.  0.  0.  0.  0.  0.  0.  1.  0.  0.\n",
      "  0.  0.  0.  0.  0.  0.  0.  0.  1.  0.  0.  0.  0.  0.  0.  0.  0.  0.\n",
      "  0.  1.  0.  0.  0.  0.  0.  0.  1.  0.  0.  0.  1.  0.  0.  0.  0.  0.\n",
      "  0.  0.  0.  0.  0.  0.  0.  0.  0.  0.  0.  0.  0.  0.  0.  0.  0.  0.\n",
      "  0.  0.  0.  0.  0.  0.  0.  0.  0.  0.  0.  1.  0.  0.  0.  0.  0.  0.\n",
      "  0.  0.  0.  0.  0.  0.  0.  0.  1.  0.  0.  0.  0.  0.  0.  0.  0.  0.\n",
      "  0.  0.  0.  0.  0.  0.  1.  0.  0.  0.  0.  0.  0.  0.  0.  0.  0.  0.\n",
      "  0.  0.  0.  0.  0.  0.  0.  0.  0.  0.  0.  0.  0.  0.  0.  0.  0.  0.\n",
      "  0.  0.  0.  0.  0.  0.  0.  0.  0.  0.  0.  0.  0.  0.  0.  0.  0.  0.\n",
      "  0.  0.  0.  0.  0.  0.  0.  0.  0.  0.  0.  0.  0.  0.  0.  0.  0.  0.\n",
      "  0.  0.  0.  0.  0.  0.  0.  1.  0.  0.  0.  0.  0.  0.  1.  0.  0.  0.\n",
      "  0.  0.  0.  0.  0.  0.  0.  0.  0.  0.  0.  0.  0.  0.  0.  0.  0.  0.\n",
      "  0.  0.  0.  0.  0.  0.  0.  0.  0.  0.  0.  0.  0.  0.  0.  0.  0.  0.\n",
      "  0.  0.  0.  0.  1.  0.  0.  0.  0.  0.  0.  0.  0.  0.  0.  0.  0.  0.\n",
      "  0.  0.  0.  0.  0.  0.  0.  0.  0.  0.  0.  0.  0.  0.  0.  0.  0.  0.\n",
      "  0.  0.  0.  0.  0.  0.  0.  0.  0.  0.  0.  0.  0.  0.  0.  0.  0.  0.\n",
      "  0.  0.  0.  1.  0.  0.  0.  0.  0.  0.  0.  0.  0.  0.  0.  0.  0.  0.\n",
      "  0.  0.  0.  0.  0.  0.  0.  0.  0.  0.  0.  0.  0.  0.  0.  0.  0.  0.\n",
      "  0.  0.  0.  0.  0.  0.  0.  0.  0.  0.  0.  0.  0.  0.  0.  0.  0.  0.\n",
      "  0.  0.  0.  0.  0.  0.  0.  0.  0.  0.  0.  0.  0.  0.  0.  0.  0.  0.\n",
      "  0.  0.  0.  0.  0.  0.  0.  0.  0.  0.  0.  0.  0.  0.  0.  0.  0.  0.\n",
      "  0.  0.  0.  0.  0.  0.  0.  0.  0.  0.  0.  0.  0.  0.  0.  0.  0.  0.\n",
      "  0.  0.  0.  0.  0.  0.  0.  0.  0.  0.  1.  0.  0.  0.  0.  0.  0.  0.\n",
      "  0.  0.  0.  0.  0.  0.  0.  0.  0.  0.  0.  0.  0.  0.  0.  0.  0.  0.\n",
      "  0.  0.  0.  0.  0.  0.  0.  0.  0.  0.  0.  0.  0.  0.  0.  0.  0.  0.\n",
      "  0.  0.  0.  0.  0.  0.  0.  0.  0.  0.  0.  0.  0.  0.  0.  0.  0.  0.\n",
      "  0.  0.  0.  0.  0.  0.  0.  0.  0.  0.  0.  0.  0.  0.  0.  0.  0.  0.\n",
      "  0.  0.  0.  0.  0.  0.  0.  0.  0.  0.  0.  0.  0.  0.  0.  0.  0.  0.\n",
      "  0.  0.  0.  0.  0.  0.  0.  0.  0.  0.  0.  0.  0.  0.  0.  0.  0.  0.\n",
      "  0.  0.  0.  0.  0.  0.  0.  0.  0.  0.  0.  0.  0.  0.  0.  0.  0.  0.\n",
      "  0.  1.  0.  0.  0.  0.  0.  0.  0.  0.  0.  0.  0.  0.  0.  0.  0.  0.\n",
      "  0.  0.  0.  0.  0.  0.  0.  0.  0.  0.]\n"
     ]
    }
   ],
   "source": [
    "# One-hot encoding the output into vector mode, each of length 1000\n",
    "tokenizer = Tokenizer(num_words=1000)\n",
    "x_train = tokenizer.sequences_to_matrix(x_train, mode='binary')\n",
    "x_test = tokenizer.sequences_to_matrix(x_test, mode='binary')\n",
    "print(\"Shape of x_train:\",x_train.shape)\n",
    "print(x_train[0])"
   ]
  },
  {
   "cell_type": "markdown",
   "metadata": {
    "deletable": true,
    "editable": true
   },
   "source": [
    "And we'll also one-hot encode the output."
   ]
  },
  {
   "cell_type": "code",
   "execution_count": 5,
   "metadata": {
    "collapsed": false,
    "deletable": true,
    "editable": true
   },
   "outputs": [
    {
     "name": "stdout",
     "output_type": "stream",
     "text": [
      "(25000, 2)\n",
      "(25000, 2)\n"
     ]
    }
   ],
   "source": [
    "# One-hot encoding the output\n",
    "num_classes = 2\n",
    "y_train = keras.utils.to_categorical(y_train, num_classes)\n",
    "y_test = keras.utils.to_categorical(y_test, num_classes)\n",
    "print(y_train.shape)\n",
    "print(y_test.shape)"
   ]
  },
  {
   "cell_type": "markdown",
   "metadata": {
    "deletable": true,
    "editable": true
   },
   "source": [
    "## 4. Building the  model architecture\n",
    "Build a model here using sequential. Feel free to experiment with different layers and sizes! Also, experiment adding dropout to reduce overfitting."
   ]
  },
  {
   "cell_type": "code",
   "execution_count": 58,
   "metadata": {
    "collapsed": false,
    "deletable": true,
    "editable": true
   },
   "outputs": [
    {
     "name": "stdout",
     "output_type": "stream",
     "text": [
      "_________________________________________________________________\n",
      "Layer (type)                 Output Shape              Param #   \n",
      "=================================================================\n",
      "dense_96 (Dense)             (None, 512)               512512    \n",
      "_________________________________________________________________\n",
      "activation_77 (Activation)   (None, 512)               0         \n",
      "_________________________________________________________________\n",
      "dense_97 (Dense)             (None, 256)               131328    \n",
      "_________________________________________________________________\n",
      "activation_78 (Activation)   (None, 256)               0         \n",
      "_________________________________________________________________\n",
      "dense_98 (Dense)             (None, 128)               32896     \n",
      "_________________________________________________________________\n",
      "activation_79 (Activation)   (None, 128)               0         \n",
      "_________________________________________________________________\n",
      "dense_99 (Dense)             (None, 64)                8256      \n",
      "_________________________________________________________________\n",
      "activation_80 (Activation)   (None, 64)                0         \n",
      "_________________________________________________________________\n",
      "dropout_20 (Dropout)         (None, 64)                0         \n",
      "_________________________________________________________________\n",
      "dense_100 (Dense)            (None, 2)                 130       \n",
      "=================================================================\n",
      "Total params: 685,122.0\n",
      "Trainable params: 685,122.0\n",
      "Non-trainable params: 0.0\n",
      "_________________________________________________________________\n"
     ]
    }
   ],
   "source": [
    "from keras import regularizers\n",
    "from keras import optimizers\n",
    "# Build the model architecture\n",
    "model = Sequential()\n",
    "#model.add(Dense(2048, input_shape=(1000,)))\n",
    "#model.add(Activation(\"relu\"))\n",
    "#model.add(Dense(1024, kernel_regularizer=regularizers.l2(1e-4)))\n",
    "#model.add(Activation(\"relu\"))\n",
    "model.add(Dense(512, input_shape=(1000,), kernel_regularizer=regularizers.l2(1e-2)))\n",
    "model.add(Activation(\"relu\"))\n",
    "model.add(Dense(256, kernel_regularizer=regularizers.l2(1e-2)))\n",
    "model.add(Activation(\"relu\"))\n",
    "model.add(Dense(128, kernel_regularizer=regularizers.l2(1e-2)))\n",
    "model.add(Activation(\"relu\"))\n",
    "model.add(Dense(64, kernel_regularizer=regularizers.l2(1e-2)))\n",
    "model.add(Activation(\"relu\"))\n",
    "model.add(Dropout(0.3))\n",
    "model.add(Dense(2))\n",
    "\n",
    "# Compile the model using a loss function and an optimizer.\n",
    "opt = keras.optimizers.Adam(lr=0.001, beta_1=0.9, beta_2=0.999, epsilon=1e-08, decay=0.0)\n",
    "model.compile(loss=\"categorical_crossentropy\", optimizer=opt, metrics=[\"accuracy\"])\n",
    "model.summary()"
   ]
  },
  {
   "cell_type": "markdown",
   "metadata": {
    "deletable": true,
    "editable": true
   },
   "source": [
    "## 5. Training the model\n",
    "Run the model here. Experiment with different batch_size, and number of epochs!"
   ]
  },
  {
   "cell_type": "code",
   "execution_count": 59,
   "metadata": {
    "collapsed": false,
    "deletable": true,
    "editable": true
   },
   "outputs": [
    {
     "name": "stdout",
     "output_type": "stream",
     "text": [
      "Train on 20000 samples, validate on 5000 samples\n",
      "Epoch 1/30\n",
      "10s - loss: 4.4157 - acc: 0.7369 - val_loss: 2.5560 - val_acc: 0.8174\n",
      "Epoch 2/30\n",
      "9s - loss: 2.3952 - acc: 0.7672 - val_loss: 2.0793 - val_acc: 0.8402\n",
      "Epoch 3/30\n",
      "9s - loss: 2.0099 - acc: 0.8194 - val_loss: 1.8396 - val_acc: 0.8344\n",
      "Epoch 4/30\n",
      "10s - loss: 1.8460 - acc: 0.8091 - val_loss: 1.6807 - val_acc: 0.8368\n",
      "Epoch 5/30\n",
      "10s - loss: 1.7011 - acc: 0.7964 - val_loss: 1.5064 - val_acc: 0.8440\n",
      "Epoch 6/30\n",
      "11s - loss: 1.4831 - acc: 0.8300 - val_loss: 1.3573 - val_acc: 0.8512\n",
      "Epoch 7/30\n",
      "9s - loss: 1.3055 - acc: 0.8433 - val_loss: 1.2686 - val_acc: 0.8192\n",
      "Epoch 8/30\n",
      "9s - loss: 1.1803 - acc: 0.8407 - val_loss: 1.4287 - val_acc: 0.5196\n",
      "Epoch 9/30\n",
      "10s - loss: 1.2316 - acc: 0.8080 - val_loss: 1.0854 - val_acc: 0.8480\n",
      "Epoch 10/30\n",
      "12s - loss: 1.0236 - acc: 0.8473 - val_loss: 0.9340 - val_acc: 0.8508\n",
      "Epoch 11/30\n",
      "11s - loss: 0.9122 - acc: 0.8502 - val_loss: 0.8458 - val_acc: 0.8532\n",
      "Epoch 12/30\n",
      "11s - loss: 1.2041 - acc: 0.6255 - val_loss: 1.3343 - val_acc: 0.5062\n",
      "Epoch 13/30\n",
      "11s - loss: 1.2800 - acc: 0.5054 - val_loss: 1.2176 - val_acc: 0.4938\n",
      "Epoch 14/30\n",
      "10s - loss: 1.1755 - acc: 0.5014 - val_loss: 1.1259 - val_acc: 0.4938\n",
      "Epoch 15/30\n",
      "9s - loss: 1.0905 - acc: 0.4998 - val_loss: 1.0503 - val_acc: 0.4938\n",
      "Epoch 16/30\n",
      "9s - loss: 1.0180 - acc: 0.5102 - val_loss: 0.9863 - val_acc: 0.4938\n",
      "Epoch 17/30\n",
      "9s - loss: 0.9591 - acc: 0.5077 - val_loss: 0.9303 - val_acc: 0.5062\n",
      "Epoch 18/30\n",
      "10s - loss: 0.9082 - acc: 0.5228 - val_loss: 0.8841 - val_acc: 0.5062\n",
      "Epoch 19/30\n",
      "10s - loss: 0.8085 - acc: 0.6574 - val_loss: 0.6546 - val_acc: 0.8334\n",
      "Epoch 20/30\n",
      "10s - loss: 0.5959 - acc: 0.8465 - val_loss: 0.5486 - val_acc: 0.8572\n",
      "Epoch 21/30\n",
      "9s - loss: 0.5260 - acc: 0.8557 - val_loss: 0.4898 - val_acc: 0.8612\n",
      "Epoch 22/30\n",
      "9s - loss: 0.5029 - acc: 0.8574 - val_loss: 0.4746 - val_acc: 0.8534\n",
      "Epoch 23/30\n",
      "12s - loss: 0.4659 - acc: 0.8609 - val_loss: 0.4546 - val_acc: 0.8590\n",
      "Epoch 24/30\n",
      "9s - loss: 0.4439 - acc: 0.8632 - val_loss: 0.4471 - val_acc: 0.8514\n",
      "Epoch 25/30\n",
      "11s - loss: 0.4265 - acc: 0.8630 - val_loss: 0.4266 - val_acc: 0.8534\n",
      "Epoch 26/30\n",
      "9s - loss: 0.4132 - acc: 0.8627 - val_loss: 0.4110 - val_acc: 0.8544\n",
      "Epoch 27/30\n",
      "12s - loss: 0.4039 - acc: 0.8626 - val_loss: 0.4132 - val_acc: 0.8562\n",
      "Epoch 28/30\n",
      "9s - loss: 0.4052 - acc: 0.8638 - val_loss: 0.4097 - val_acc: 0.8518\n",
      "Epoch 29/30\n",
      "9s - loss: 0.3931 - acc: 0.8664 - val_loss: 0.4000 - val_acc: 0.8562\n",
      "Epoch 30/30\n",
      "10s - loss: 0.3817 - acc: 0.8678 - val_loss: 0.3870 - val_acc: 0.8604\n"
     ]
    }
   ],
   "source": [
    "# Run the model. Feel free to experiment with different batch sizes and number of epochs.\n",
    "history = model.fit(x_train, y_train, epochs=30, batch_size=64, verbose=2, validation_split=0.2)"
   ]
  },
  {
   "cell_type": "code",
   "execution_count": 60,
   "metadata": {
    "collapsed": false,
    "deletable": true,
    "editable": true
   },
   "outputs": [
    {
     "data": {
      "image/png": "[encoded data removed]",
      "text/plain": [
       "<matplotlib.figure.Figure at 0x153713898>"
      ]
     },
     "metadata": {},
     "output_type": "display_data"
    }
   ],
   "source": [
    "# Print the training loss and validation loss\n",
    "plt.plot(history.history[\"loss\"], color='b')\n",
    "plt.plot(history.history[\"val_loss\"], color='r')\n",
    "plt.show()"
   ]
  },
  {
   "cell_type": "markdown",
   "metadata": {
    "deletable": true,
    "editable": true
   },
   "source": [
    "## 6. Evaluating the model\n",
    "This will give you the accuracy of the model, as evaluated on the testing set. Can you get something over 85%?"
   ]
  },
  {
   "cell_type": "code",
   "execution_count": 61,
   "metadata": {
    "collapsed": false,
    "deletable": true,
    "editable": true
   },
   "outputs": [
    {
     "name": "stdout",
     "output_type": "stream",
     "text": [
      "Accuracy:  0.85576\n"
     ]
    }
   ],
   "source": [
    "score = model.evaluate(x_test, y_test, verbose=0)\n",
    "print(\"Accuracy: \", score[1])"
   ]
  },
  {
   "cell_type": "markdown",
   "metadata": {},
   "source": [
    "### Tune Model\n",
    "<ul>\n",
    "<li>Current Best One</li>\n",
    "    <ul>\n",
    "    <li>Test Accuracy: 0.85576</li>\n",
    "    <li>Architecture: <br> 4 fully-connected hidden layers (nodes: 512, 256, 128, 64) + 1 fully-connected layer for logits (nodes:2)</li>\n",
    "    <li>Hyperparameters: <br> learning rate (1e-3), batch size (64), epoch (30)</li>\n",
    "    <li>Ways to prevent overfitting: <br> L2-regularization (penalty:1e-2) <br> Dropout rate (0.3)\n",
    "    </li>\n",
    "    </ul>\n",
    "<li>First Try</li>\n",
    "    <ul>\n",
    "    <li>Architecture: <br> 6 fully-connected layers (nodes: 2048, 1024, 512, 256, 128, 64) + 1 fully-connected layer for logits</li>\n",
    "    <li>Result</li>\n",
    "        <ul>\n",
    "        <li>It took 30s to run an epoch (not efficient) although it reach 80% validation accuracy at first epoch</li>\n",
    "        </ul>\n",
    "    </ul>\n",
    "<li>How to tune it to the current one</li>\n",
    "    <ul>\n",
    "        <li>Try to modify the first layer (nodes: 2048, 1024 or 512)\n",
    "        <br>It turns out that node-512 is a good choice considering the efficency\n",
    "        </li>\n",
    "        <li>Add dropout rate\n",
    "        <br>At first, I try with rate 0.5. Then tune to 0.1, 0.3 if the model starts underfitting. Tune back to 0.5 or even 0.7 if overfitting.\n",
    "        </li>\n",
    "        <li>Add L2-Regularization\n",
    "        <br>Start with 1e-4. If model starts overfitting, increase to 1e-2. If the model starts underfitting, consider tune back to 1e-4 or even 1e-5.\n",
    "        </li>\n",
    "        <li>How about Optimizer:\n",
    "        <br>In this case, I also tried Adagrad and SGD, but it seemed that Adam (with default parameters) always did well in what I've tried.\n",
    "        </li>\n",
    "        <li>How about other hyper-parameters?\n",
    "        <br>At some architectures, it only needs 10 epochs to get validation accuracy nearly 85%. After adding L2-regularization and increase dropout rate, it would take around 20% to get a stable validation accuracy 85%.\n",
    "        <br>Set batch size to 128 or 64 can get good result at first few epochs. When choose to use batch size 64, the accuracy would bounce drastically in some cases.\n",
    "        </li>\n",
    "        <li>By the way, due to random initialization of the weights, it may get different resuls when using same paramters</li>\n",
    "    </ul>\n",
    "</ul>"
   ]
  }
 ],
 "metadata": {
  "kernelspec": {
   "display_name": "Python 3",
   "language": "python",
   "name": "python3"
  },
  "language_info": {
   "codemirror_mode": {
    "name": "ipython",
    "version": 3
   },
   "file_extension": ".py",
   "mimetype": "text/x-python",
   "name": "python",
   "nbconvert_exporter": "python",
   "pygments_lexer": "ipython3",
   "version": "3.5.3"
  }
 },
 "nbformat": 4,
 "nbformat_minor": 2
}
